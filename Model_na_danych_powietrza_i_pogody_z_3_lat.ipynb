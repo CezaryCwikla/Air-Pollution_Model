{
 "cells": [
  {
   "cell_type": "code",
   "execution_count": 77,
   "id": "ab02e191",
   "metadata": {
    "scrolled": true
   },
   "outputs": [],
   "source": [
    "import math\n",
    "import numpy as np\n",
    "import pandas as pd\n",
    "import matplotlib.pyplot as plt\n",
    "import seaborn as sns;\n",
    "\n",
    "\n",
    "%matplotlib inline\n",
    "\n",
    "# For Data Preprocessing\n",
    "from sklearn.preprocessing import LabelEncoder, MinMaxScaler\n",
    "\n",
    "# For building the LSTM Model\n",
    "from keras.models import Sequential\n",
    "from keras.layers import LSTM, Dense\n",
    "\n",
    "# For evaluating the model\n",
    "from sklearn.metrics import mean_squared_error\n",
    "\n",
    "data = pd.read_csv('Data/Scalanie2_2.csv', parse_dates=['Data'])"
   ]
  },
  {
   "cell_type": "code",
   "execution_count": 78,
   "id": "0092e883",
   "metadata": {},
   "outputs": [],
   "source": [
    "data.dropna(inplace=True)"
   ]
  },
  {
   "cell_type": "code",
   "execution_count": 79,
   "id": "029f040e",
   "metadata": {
    "scrolled": true
   },
   "outputs": [],
   "source": [
    "data_df = data"
   ]
  },
  {
   "cell_type": "code",
   "execution_count": 80,
   "id": "cd51ff2c",
   "metadata": {},
   "outputs": [],
   "source": [
    "data_df.rename(columns = {'(pył zawieszony PM2.5 [jednostka ug/m3])':'PM2.5'\n",
    "                    , '(pył zawieszony PM10 [jednostka ug/m3])':'PM10'\n",
    "                    , '(tlenek azotu [jednostka ug/m3])':'NO'\n",
    "                    , '(tlenki azotu [jednostka ug/m3])':'NOs'\n",
    "                    , '(tlenek węgla [jednostka ug/m3])':'CO'\n",
    "                    , '(benzen [jednostka ug/m3])':'benzen'\n",
    "                    , '(dwutlenek azotu [jednostka ug/m3])':'NO2'\n",
    "                    , 'B00202A (2).Wynik':'Kierunek wiatru'\n",
    "                    , 'Scalanie1.B00300S.Wynik':'Temperatura powietrza'\n",
    "                    , 'Scalanie1.B00606S.Wynik':'Opady'\n",
    "                    , 'Scalanie1.B00702A.Wynik':'Predkosc wiatru'\n",
    "                    , 'Scalanie1.B00703A.Wynik':'MAX Predkosc wiatru'\n",
    "                    , 'Scalanie1.B00802A.Wynik':'Wilgotnosc powietrza'\n",
    "                    }, inplace = True)"
   ]
  },
  {
   "cell_type": "code",
   "execution_count": 81,
   "id": "14421fb5",
   "metadata": {
    "scrolled": true
   },
   "outputs": [],
   "source": [
    "data_df = data_df.drop(['Scalanie1.Stacja','Scalanie1.Data','Scalanie1.Rodzaj'], axis=1)"
   ]
  },
  {
   "cell_type": "code",
   "execution_count": 82,
   "id": "5bb242f9",
   "metadata": {
    "scrolled": false
   },
   "outputs": [
    {
     "data": {
      "text/html": [
       "<div>\n",
       "<style scoped>\n",
       "    .dataframe tbody tr th:only-of-type {\n",
       "        vertical-align: middle;\n",
       "    }\n",
       "\n",
       "    .dataframe tbody tr th {\n",
       "        vertical-align: top;\n",
       "    }\n",
       "\n",
       "    .dataframe thead th {\n",
       "        text-align: right;\n",
       "    }\n",
       "</style>\n",
       "<table border=\"1\" class=\"dataframe\">\n",
       "  <thead>\n",
       "    <tr style=\"text-align: right;\">\n",
       "      <th></th>\n",
       "      <th>Data</th>\n",
       "      <th>PM2.5</th>\n",
       "      <th>PM10</th>\n",
       "      <th>NO</th>\n",
       "      <th>NOs</th>\n",
       "      <th>CO</th>\n",
       "      <th>benzen</th>\n",
       "      <th>NO2</th>\n",
       "      <th>Temperatura powietrza</th>\n",
       "      <th>Opady</th>\n",
       "      <th>Predkosc wiatru</th>\n",
       "      <th>MAX Predkosc wiatru</th>\n",
       "      <th>Wilgotnosc powietrza</th>\n",
       "      <th>Kierunek wiatru</th>\n",
       "    </tr>\n",
       "  </thead>\n",
       "  <tbody>\n",
       "    <tr>\n",
       "      <th>0</th>\n",
       "      <td>2019-01-03 07:00:00</td>\n",
       "      <td>6.8</td>\n",
       "      <td>7.3</td>\n",
       "      <td>25.1</td>\n",
       "      <td>75.7</td>\n",
       "      <td>0.3</td>\n",
       "      <td>0.5</td>\n",
       "      <td>37.3</td>\n",
       "      <td>-2.700000</td>\n",
       "      <td>0.0</td>\n",
       "      <td>6.683333</td>\n",
       "      <td>9.833333</td>\n",
       "      <td>69.333333</td>\n",
       "      <td>284.000000</td>\n",
       "    </tr>\n",
       "    <tr>\n",
       "      <th>1</th>\n",
       "      <td>2019-01-06 08:00:00</td>\n",
       "      <td>16.1</td>\n",
       "      <td>16.8</td>\n",
       "      <td>13.6</td>\n",
       "      <td>34.4</td>\n",
       "      <td>0.3</td>\n",
       "      <td>0.5</td>\n",
       "      <td>13.5</td>\n",
       "      <td>-5.733333</td>\n",
       "      <td>0.0</td>\n",
       "      <td>4.633333</td>\n",
       "      <td>6.666667</td>\n",
       "      <td>90.666667</td>\n",
       "      <td>351.333333</td>\n",
       "    </tr>\n",
       "    <tr>\n",
       "      <th>2</th>\n",
       "      <td>2019-01-15 03:00:00</td>\n",
       "      <td>9.9</td>\n",
       "      <td>10.3</td>\n",
       "      <td>0.9</td>\n",
       "      <td>7.3</td>\n",
       "      <td>0.3</td>\n",
       "      <td>0.5</td>\n",
       "      <td>6.0</td>\n",
       "      <td>-1.933333</td>\n",
       "      <td>0.0</td>\n",
       "      <td>8.550000</td>\n",
       "      <td>10.833333</td>\n",
       "      <td>78.833333</td>\n",
       "      <td>250.500000</td>\n",
       "    </tr>\n",
       "    <tr>\n",
       "      <th>3</th>\n",
       "      <td>2019-01-15 04:00:00</td>\n",
       "      <td>9.6</td>\n",
       "      <td>10.0</td>\n",
       "      <td>0.6</td>\n",
       "      <td>7.7</td>\n",
       "      <td>0.3</td>\n",
       "      <td>0.5</td>\n",
       "      <td>6.7</td>\n",
       "      <td>-2.116667</td>\n",
       "      <td>0.0</td>\n",
       "      <td>9.266667</td>\n",
       "      <td>11.833333</td>\n",
       "      <td>85.666667</td>\n",
       "      <td>248.166667</td>\n",
       "    </tr>\n",
       "    <tr>\n",
       "      <th>4</th>\n",
       "      <td>2019-03-08 05:00:00</td>\n",
       "      <td>6.8</td>\n",
       "      <td>10.3</td>\n",
       "      <td>21.4</td>\n",
       "      <td>71.6</td>\n",
       "      <td>0.3</td>\n",
       "      <td>0.5</td>\n",
       "      <td>38.9</td>\n",
       "      <td>7.150000</td>\n",
       "      <td>0.0</td>\n",
       "      <td>3.466667</td>\n",
       "      <td>3.666667</td>\n",
       "      <td>81.833333</td>\n",
       "      <td>237.000000</td>\n",
       "    </tr>\n",
       "    <tr>\n",
       "      <th>...</th>\n",
       "      <td>...</td>\n",
       "      <td>...</td>\n",
       "      <td>...</td>\n",
       "      <td>...</td>\n",
       "      <td>...</td>\n",
       "      <td>...</td>\n",
       "      <td>...</td>\n",
       "      <td>...</td>\n",
       "      <td>...</td>\n",
       "      <td>...</td>\n",
       "      <td>...</td>\n",
       "      <td>...</td>\n",
       "      <td>...</td>\n",
       "      <td>...</td>\n",
       "    </tr>\n",
       "    <tr>\n",
       "      <th>26363</th>\n",
       "      <td>2020-03-01 13:00:00</td>\n",
       "      <td>15.8</td>\n",
       "      <td>20.2</td>\n",
       "      <td>4.6</td>\n",
       "      <td>17.8</td>\n",
       "      <td>0.3</td>\n",
       "      <td>1.1</td>\n",
       "      <td>10.8</td>\n",
       "      <td>6.216667</td>\n",
       "      <td>0.2</td>\n",
       "      <td>5.916667</td>\n",
       "      <td>8.983333</td>\n",
       "      <td>75.000000</td>\n",
       "      <td>200.666667</td>\n",
       "    </tr>\n",
       "    <tr>\n",
       "      <th>26364</th>\n",
       "      <td>2021-09-19 16:00:00</td>\n",
       "      <td>12.5</td>\n",
       "      <td>16.4</td>\n",
       "      <td>11.7</td>\n",
       "      <td>37.5</td>\n",
       "      <td>0.3</td>\n",
       "      <td>1.2</td>\n",
       "      <td>19.6</td>\n",
       "      <td>8.866667</td>\n",
       "      <td>0.2</td>\n",
       "      <td>4.683333</td>\n",
       "      <td>6.250000</td>\n",
       "      <td>96.166667</td>\n",
       "      <td>256.833333</td>\n",
       "    </tr>\n",
       "    <tr>\n",
       "      <th>26366</th>\n",
       "      <td>2021-11-04 14:00:00</td>\n",
       "      <td>7.0</td>\n",
       "      <td>12.2</td>\n",
       "      <td>9.2</td>\n",
       "      <td>28.3</td>\n",
       "      <td>0.3</td>\n",
       "      <td>1.3</td>\n",
       "      <td>14.2</td>\n",
       "      <td>14.566667</td>\n",
       "      <td>0.2</td>\n",
       "      <td>4.766667</td>\n",
       "      <td>7.983333</td>\n",
       "      <td>78.833333</td>\n",
       "      <td>170.166667</td>\n",
       "    </tr>\n",
       "    <tr>\n",
       "      <th>26368</th>\n",
       "      <td>2021-12-05 08:00:00</td>\n",
       "      <td>18.7</td>\n",
       "      <td>23.2</td>\n",
       "      <td>5.7</td>\n",
       "      <td>17.9</td>\n",
       "      <td>0.3</td>\n",
       "      <td>1.6</td>\n",
       "      <td>9.1</td>\n",
       "      <td>0.200000</td>\n",
       "      <td>0.2</td>\n",
       "      <td>0.983333</td>\n",
       "      <td>1.633333</td>\n",
       "      <td>93.833333</td>\n",
       "      <td>142.000000</td>\n",
       "    </tr>\n",
       "    <tr>\n",
       "      <th>26369</th>\n",
       "      <td>2021-12-25 03:00:00</td>\n",
       "      <td>7.5</td>\n",
       "      <td>10.8</td>\n",
       "      <td>1.0</td>\n",
       "      <td>16.2</td>\n",
       "      <td>0.3</td>\n",
       "      <td>4.3</td>\n",
       "      <td>14.7</td>\n",
       "      <td>0.116667</td>\n",
       "      <td>0.2</td>\n",
       "      <td>5.333333</td>\n",
       "      <td>8.033333</td>\n",
       "      <td>92.000000</td>\n",
       "      <td>275.166667</td>\n",
       "    </tr>\n",
       "  </tbody>\n",
       "</table>\n",
       "<p>22284 rows × 14 columns</p>\n",
       "</div>"
      ],
      "text/plain": [
       "                     Data  PM2.5  PM10    NO   NOs   CO  benzen   NO2  \\\n",
       "0     2019-01-03 07:00:00    6.8   7.3  25.1  75.7  0.3     0.5  37.3   \n",
       "1     2019-01-06 08:00:00   16.1  16.8  13.6  34.4  0.3     0.5  13.5   \n",
       "2     2019-01-15 03:00:00    9.9  10.3   0.9   7.3  0.3     0.5   6.0   \n",
       "3     2019-01-15 04:00:00    9.6  10.0   0.6   7.7  0.3     0.5   6.7   \n",
       "4     2019-03-08 05:00:00    6.8  10.3  21.4  71.6  0.3     0.5  38.9   \n",
       "...                   ...    ...   ...   ...   ...  ...     ...   ...   \n",
       "26363 2020-03-01 13:00:00   15.8  20.2   4.6  17.8  0.3     1.1  10.8   \n",
       "26364 2021-09-19 16:00:00   12.5  16.4  11.7  37.5  0.3     1.2  19.6   \n",
       "26366 2021-11-04 14:00:00    7.0  12.2   9.2  28.3  0.3     1.3  14.2   \n",
       "26368 2021-12-05 08:00:00   18.7  23.2   5.7  17.9  0.3     1.6   9.1   \n",
       "26369 2021-12-25 03:00:00    7.5  10.8   1.0  16.2  0.3     4.3  14.7   \n",
       "\n",
       "       Temperatura powietrza  Opady  Predkosc wiatru  MAX Predkosc wiatru  \\\n",
       "0                  -2.700000    0.0         6.683333             9.833333   \n",
       "1                  -5.733333    0.0         4.633333             6.666667   \n",
       "2                  -1.933333    0.0         8.550000            10.833333   \n",
       "3                  -2.116667    0.0         9.266667            11.833333   \n",
       "4                   7.150000    0.0         3.466667             3.666667   \n",
       "...                      ...    ...              ...                  ...   \n",
       "26363               6.216667    0.2         5.916667             8.983333   \n",
       "26364               8.866667    0.2         4.683333             6.250000   \n",
       "26366              14.566667    0.2         4.766667             7.983333   \n",
       "26368               0.200000    0.2         0.983333             1.633333   \n",
       "26369               0.116667    0.2         5.333333             8.033333   \n",
       "\n",
       "       Wilgotnosc powietrza  Kierunek wiatru  \n",
       "0                 69.333333       284.000000  \n",
       "1                 90.666667       351.333333  \n",
       "2                 78.833333       250.500000  \n",
       "3                 85.666667       248.166667  \n",
       "4                 81.833333       237.000000  \n",
       "...                     ...              ...  \n",
       "26363             75.000000       200.666667  \n",
       "26364             96.166667       256.833333  \n",
       "26366             78.833333       170.166667  \n",
       "26368             93.833333       142.000000  \n",
       "26369             92.000000       275.166667  \n",
       "\n",
       "[22284 rows x 14 columns]"
      ]
     },
     "execution_count": 82,
     "metadata": {},
     "output_type": "execute_result"
    }
   ],
   "source": [
    "data_df"
   ]
  },
  {
   "cell_type": "code",
   "execution_count": 83,
   "id": "bdd8b737",
   "metadata": {
    "scrolled": true
   },
   "outputs": [
    {
     "data": {
      "text/html": [
       "<div>\n",
       "<style scoped>\n",
       "    .dataframe tbody tr th:only-of-type {\n",
       "        vertical-align: middle;\n",
       "    }\n",
       "\n",
       "    .dataframe tbody tr th {\n",
       "        vertical-align: top;\n",
       "    }\n",
       "\n",
       "    .dataframe thead th {\n",
       "        text-align: right;\n",
       "    }\n",
       "</style>\n",
       "<table border=\"1\" class=\"dataframe\">\n",
       "  <thead>\n",
       "    <tr style=\"text-align: right;\">\n",
       "      <th></th>\n",
       "      <th>PM2.5</th>\n",
       "      <th>PM10</th>\n",
       "      <th>NO</th>\n",
       "      <th>NOs</th>\n",
       "      <th>CO</th>\n",
       "      <th>benzen</th>\n",
       "      <th>NO2</th>\n",
       "      <th>Temperatura powietrza</th>\n",
       "      <th>Opady</th>\n",
       "      <th>Predkosc wiatru</th>\n",
       "      <th>MAX Predkosc wiatru</th>\n",
       "      <th>Wilgotnosc powietrza</th>\n",
       "      <th>Kierunek wiatru</th>\n",
       "    </tr>\n",
       "  </thead>\n",
       "  <tbody>\n",
       "    <tr>\n",
       "      <th>count</th>\n",
       "      <td>22284.000000</td>\n",
       "      <td>22284.000000</td>\n",
       "      <td>22284.000000</td>\n",
       "      <td>22284.000000</td>\n",
       "      <td>22284.000000</td>\n",
       "      <td>22284.000000</td>\n",
       "      <td>22284.000000</td>\n",
       "      <td>22284.000000</td>\n",
       "      <td>22284.000000</td>\n",
       "      <td>22284.000000</td>\n",
       "      <td>22284.000000</td>\n",
       "      <td>22284.000000</td>\n",
       "      <td>22284.000000</td>\n",
       "    </tr>\n",
       "    <tr>\n",
       "      <th>mean</th>\n",
       "      <td>22.090513</td>\n",
       "      <td>28.761659</td>\n",
       "      <td>24.912202</td>\n",
       "      <td>66.477684</td>\n",
       "      <td>0.451288</td>\n",
       "      <td>1.446558</td>\n",
       "      <td>29.224381</td>\n",
       "      <td>9.323174</td>\n",
       "      <td>0.067456</td>\n",
       "      <td>3.816359</td>\n",
       "      <td>5.499758</td>\n",
       "      <td>76.741014</td>\n",
       "      <td>195.154490</td>\n",
       "    </tr>\n",
       "    <tr>\n",
       "      <th>std</th>\n",
       "      <td>20.413648</td>\n",
       "      <td>22.899676</td>\n",
       "      <td>34.111791</td>\n",
       "      <td>64.508164</td>\n",
       "      <td>0.301597</td>\n",
       "      <td>2.247832</td>\n",
       "      <td>17.490975</td>\n",
       "      <td>8.697416</td>\n",
       "      <td>0.572861</td>\n",
       "      <td>2.194011</td>\n",
       "      <td>3.232747</td>\n",
       "      <td>18.783071</td>\n",
       "      <td>82.285708</td>\n",
       "    </tr>\n",
       "    <tr>\n",
       "      <th>min</th>\n",
       "      <td>0.000000</td>\n",
       "      <td>1.400000</td>\n",
       "      <td>0.000000</td>\n",
       "      <td>2.100000</td>\n",
       "      <td>0.100000</td>\n",
       "      <td>0.000000</td>\n",
       "      <td>0.900000</td>\n",
       "      <td>-17.450000</td>\n",
       "      <td>0.000000</td>\n",
       "      <td>0.000000</td>\n",
       "      <td>0.000000</td>\n",
       "      <td>14.666667</td>\n",
       "      <td>0.000000</td>\n",
       "    </tr>\n",
       "    <tr>\n",
       "      <th>25%</th>\n",
       "      <td>9.900000</td>\n",
       "      <td>14.900000</td>\n",
       "      <td>5.000000</td>\n",
       "      <td>24.800000</td>\n",
       "      <td>0.300000</td>\n",
       "      <td>0.500000</td>\n",
       "      <td>15.800000</td>\n",
       "      <td>2.400000</td>\n",
       "      <td>0.000000</td>\n",
       "      <td>2.133333</td>\n",
       "      <td>2.983333</td>\n",
       "      <td>64.000000</td>\n",
       "      <td>113.791667</td>\n",
       "    </tr>\n",
       "    <tr>\n",
       "      <th>50%</th>\n",
       "      <td>16.400000</td>\n",
       "      <td>22.900000</td>\n",
       "      <td>13.100000</td>\n",
       "      <td>47.100000</td>\n",
       "      <td>0.400000</td>\n",
       "      <td>0.800000</td>\n",
       "      <td>26.300000</td>\n",
       "      <td>8.483333</td>\n",
       "      <td>0.000000</td>\n",
       "      <td>3.433333</td>\n",
       "      <td>4.933333</td>\n",
       "      <td>81.666667</td>\n",
       "      <td>212.166667</td>\n",
       "    </tr>\n",
       "    <tr>\n",
       "      <th>75%</th>\n",
       "      <td>26.700000</td>\n",
       "      <td>34.500000</td>\n",
       "      <td>31.625000</td>\n",
       "      <td>85.900000</td>\n",
       "      <td>0.500000</td>\n",
       "      <td>1.600000</td>\n",
       "      <td>39.500000</td>\n",
       "      <td>15.950000</td>\n",
       "      <td>0.000000</td>\n",
       "      <td>5.116667</td>\n",
       "      <td>7.450000</td>\n",
       "      <td>92.333333</td>\n",
       "      <td>256.166667</td>\n",
       "    </tr>\n",
       "    <tr>\n",
       "      <th>max</th>\n",
       "      <td>282.700000</td>\n",
       "      <td>315.700000</td>\n",
       "      <td>483.100000</td>\n",
       "      <td>838.200000</td>\n",
       "      <td>4.400000</td>\n",
       "      <td>49.100000</td>\n",
       "      <td>131.500000</td>\n",
       "      <td>34.000000</td>\n",
       "      <td>36.400000</td>\n",
       "      <td>17.300000</td>\n",
       "      <td>24.283333</td>\n",
       "      <td>100.000000</td>\n",
       "      <td>357.333333</td>\n",
       "    </tr>\n",
       "  </tbody>\n",
       "</table>\n",
       "</div>"
      ],
      "text/plain": [
       "              PM2.5          PM10            NO           NOs            CO  \\\n",
       "count  22284.000000  22284.000000  22284.000000  22284.000000  22284.000000   \n",
       "mean      22.090513     28.761659     24.912202     66.477684      0.451288   \n",
       "std       20.413648     22.899676     34.111791     64.508164      0.301597   \n",
       "min        0.000000      1.400000      0.000000      2.100000      0.100000   \n",
       "25%        9.900000     14.900000      5.000000     24.800000      0.300000   \n",
       "50%       16.400000     22.900000     13.100000     47.100000      0.400000   \n",
       "75%       26.700000     34.500000     31.625000     85.900000      0.500000   \n",
       "max      282.700000    315.700000    483.100000    838.200000      4.400000   \n",
       "\n",
       "             benzen           NO2  Temperatura powietrza         Opady  \\\n",
       "count  22284.000000  22284.000000           22284.000000  22284.000000   \n",
       "mean       1.446558     29.224381               9.323174      0.067456   \n",
       "std        2.247832     17.490975               8.697416      0.572861   \n",
       "min        0.000000      0.900000             -17.450000      0.000000   \n",
       "25%        0.500000     15.800000               2.400000      0.000000   \n",
       "50%        0.800000     26.300000               8.483333      0.000000   \n",
       "75%        1.600000     39.500000              15.950000      0.000000   \n",
       "max       49.100000    131.500000              34.000000     36.400000   \n",
       "\n",
       "       Predkosc wiatru  MAX Predkosc wiatru  Wilgotnosc powietrza  \\\n",
       "count     22284.000000         22284.000000          22284.000000   \n",
       "mean          3.816359             5.499758             76.741014   \n",
       "std           2.194011             3.232747             18.783071   \n",
       "min           0.000000             0.000000             14.666667   \n",
       "25%           2.133333             2.983333             64.000000   \n",
       "50%           3.433333             4.933333             81.666667   \n",
       "75%           5.116667             7.450000             92.333333   \n",
       "max          17.300000            24.283333            100.000000   \n",
       "\n",
       "       Kierunek wiatru  \n",
       "count     22284.000000  \n",
       "mean        195.154490  \n",
       "std          82.285708  \n",
       "min           0.000000  \n",
       "25%         113.791667  \n",
       "50%         212.166667  \n",
       "75%         256.166667  \n",
       "max         357.333333  "
      ]
     },
     "execution_count": 83,
     "metadata": {},
     "output_type": "execute_result"
    }
   ],
   "source": [
    "data_df.describe()"
   ]
  },
  {
   "cell_type": "code",
   "execution_count": 84,
   "id": "db06b0b3",
   "metadata": {
    "scrolled": true
   },
   "outputs": [
    {
     "data": {
      "text/plain": [
       "Data                 PM2.5  PM10  NO    NOs   CO   benzen  NO2   Temperatura powietrza  Opady  Predkosc wiatru  MAX Predkosc wiatru  Wilgotnosc powietrza  Kierunek wiatru\n",
       "2020-01-01 07:00:00  9.3    13.1  7.7   22.3  0.2  0.4     10.6  2.133333               0.0    5.033333         7.083333             80.000000             267.666667         2\n",
       "2020-01-01 18:00:00  22.7   29.6  21.2  64.9  0.4  1.6     32.4  1.683333               0.0    6.366667         8.766667             77.000000             243.500000         2\n",
       "2021-01-01 05:00:00  25.5   30.8  2.1   7.2   0.4  0.8     3.9   0.833333               0.0    4.183333         5.066667             100.000000            249.000000         2\n",
       "2021-01-01 04:00:00  31.4   36.9  1.8   8.1   0.5  0.9     5.4   1.166667               0.0    4.100000         5.050000             100.000000            253.666667         2\n",
       "2021-01-01 03:00:00  34.6   40.5  1.6   8.8   0.5  1.1     6.3   1.516667               0.0    3.316667         4.650000             100.000000            268.666667         2\n",
       "                                                                                                                                                                             ..\n",
       "2020-01-30 01:00:00  12.3   16.0  5.3   20.1  0.3  0.9     12.0  2.850000               0.0    7.150000         9.550000             71.166667             247.833333         1\n",
       "2020-01-30 00:00:00  14.3   19.1  9.4   31.3  0.4  1.2     17.0  2.400000               0.0    6.816667         9.566667             75.333333             242.500000         1\n",
       "2020-01-29 23:00:00  15.8   22.3  13.7  44.4  0.4  1.1     23.4  2.550000               0.0    7.966667         10.900000            76.166667             241.333333         1\n",
       "2020-01-29 22:00:00  17.3   30.0  18.5  56.3  0.4  1.1     27.9  2.950000               0.0    8.316667         11.250000            74.666667             242.166667         1\n",
       "2021-12-31 23:00:00  15.6   19.4  0.5   19.1  0.5  5.1     18.3  6.233333               1.7    5.300000         7.416667             93.833333             212.000000         1\n",
       "Length: 22241, dtype: int64"
      ]
     },
     "execution_count": 84,
     "metadata": {},
     "output_type": "execute_result"
    }
   ],
   "source": [
    "data_df.value_counts() "
   ]
  },
  {
   "cell_type": "code",
   "execution_count": 85,
   "id": "8a9aae95",
   "metadata": {},
   "outputs": [],
   "source": [
    "data_df = data_df.reset_index()\n",
    "six_df = pd.DataFrame()\n",
    "twelve_df = pd.DataFrame()\n",
    "tf_df = pd.DataFrame()\n",
    "do_tylu = 10\n",
    "for i in range(len(data_df)):\n",
    "    six_df = pd.concat([six_df,pd.DataFrame({'Temp past avg 3h':[sum(data_df['Temperatura powietrza'].iloc[i:i+do_tylu])/do_tylu]}, index = [i+do_tylu])])\n",
    "    twelve_df = pd.concat([twelve_df,pd.DataFrame({'Opady past avg 3h':[sum(data_df['Opady'].iloc[i:i+do_tylu])/do_tylu]}, index = [i+do_tylu])])\n",
    "    tf_df = pd.concat([tf_df,pd.DataFrame({'Predkosc wiatru past avg 6h':[sum(data_df['Predkosc wiatru'].iloc[i:i+do_tylu])/do_tylu]}, index = [i+do_tylu])])\n",
    "   \n",
    "data_df = pd.merge(data_df, six_df, left_index=True, right_index=True)\n",
    "data_df = pd.merge(data_df, twelve_df, left_index=True, right_index=True)\n",
    "data_df = pd.merge(data_df, tf_df, left_index=True, right_index=True)\n"
   ]
  },
  {
   "cell_type": "code",
   "execution_count": 86,
   "id": "c1ce7ec4",
   "metadata": {},
   "outputs": [],
   "source": [
    "# data_df['H'] = pd.to_datetime(data_df['Data']).dt.time\n",
    "# data_df['H'] = data_df['H'].astype('string')"
   ]
  },
  {
   "cell_type": "code",
   "execution_count": 87,
   "id": "99f41765",
   "metadata": {
    "scrolled": true
   },
   "outputs": [],
   "source": [
    "# data_df['H'] = data_df['H'].str.replace(r'\\D', '')"
   ]
  },
  {
   "cell_type": "code",
   "execution_count": 88,
   "id": "382f000e",
   "metadata": {
    "scrolled": true
   },
   "outputs": [],
   "source": [
    "# data_df['H'] = data_df['H'].str.replace(r'.{4}$', '')\n"
   ]
  },
  {
   "cell_type": "code",
   "execution_count": 89,
   "id": "e90b10d0",
   "metadata": {},
   "outputs": [],
   "source": [
    "# data_df['H'] = data_df['H'].astype('float')"
   ]
  },
  {
   "cell_type": "code",
   "execution_count": 90,
   "id": "36ea0c1c",
   "metadata": {
    "scrolled": false
   },
   "outputs": [],
   "source": [
    "data_df = data_df.drop('index', axis=1)\n",
    "data_df['Data'] = pd.to_datetime(data_df['Data'], format='%Y%m%d %H')\n",
    "data_df.index = data_df['Data']\n",
    "data_df = data_df.drop('Data', axis=1)"
   ]
  },
  {
   "cell_type": "code",
   "execution_count": 91,
   "id": "a6f285d8",
   "metadata": {},
   "outputs": [
    {
     "data": {
      "text/plain": [
       "PM2.5                          float64\n",
       "PM10                           float64\n",
       "NO                             float64\n",
       "NOs                            float64\n",
       "CO                             float64\n",
       "benzen                         float64\n",
       "NO2                            float64\n",
       "Temperatura powietrza          float64\n",
       "Opady                          float64\n",
       "Predkosc wiatru                float64\n",
       "MAX Predkosc wiatru            float64\n",
       "Wilgotnosc powietrza           float64\n",
       "Kierunek wiatru                float64\n",
       "Temp past avg 3h               float64\n",
       "Opady past avg 3h              float64\n",
       "Predkosc wiatru past avg 6h    float64\n",
       "dtype: object"
      ]
     },
     "execution_count": 91,
     "metadata": {},
     "output_type": "execute_result"
    }
   ],
   "source": [
    "data_df.dtypes"
   ]
  },
  {
   "cell_type": "code",
   "execution_count": 92,
   "id": "7f076a4f",
   "metadata": {
    "scrolled": false
   },
   "outputs": [],
   "source": [
    "scaler = MinMaxScaler(feature_range=(0, 1))\n",
    "values = scaler.fit_transform(data_df)\n",
    "data_df2 = pd.DataFrame(values)"
   ]
  },
  {
   "cell_type": "code",
   "execution_count": 93,
   "id": "03c5fc4f",
   "metadata": {},
   "outputs": [
    {
     "data": {
      "text/plain": [
       "array([[0.0311284 , 0.02768056, 0.06644587, ..., 0.38522613, 0.        ,\n",
       "        0.73411805],\n",
       "       [0.02051645, 0.01877187, 0.06127096, ..., 0.40466738, 0.        ,\n",
       "        0.72840575],\n",
       "       [0.0576583 , 0.05408845, 0.03249845, ..., 0.43394056, 0.        ,\n",
       "        0.74277307],\n",
       "       ...,\n",
       "       [0.02476123, 0.03436207, 0.01904368, ..., 0.50302378, 0.02699055,\n",
       "        0.40193872],\n",
       "       [0.06614786, 0.06936048, 0.0117988 , ..., 0.5102957 , 0.02699055,\n",
       "        0.40540073],\n",
       "       [0.02652989, 0.02990773, 0.00206996, ..., 0.47890773, 0.02699055,\n",
       "        0.39103341]])"
      ]
     },
     "execution_count": 93,
     "metadata": {},
     "output_type": "execute_result"
    }
   ],
   "source": [
    "values"
   ]
  },
  {
   "cell_type": "code",
   "execution_count": 94,
   "id": "eba0c80b",
   "metadata": {},
   "outputs": [],
   "source": [
    "data_df2.columns = data_df.columns\n",
    "data_df2.index = data_df.index "
   ]
  },
  {
   "cell_type": "code",
   "execution_count": 95,
   "id": "1eb57e52",
   "metadata": {},
   "outputs": [],
   "source": [
    "data_df2.dropna(inplace=True)"
   ]
  },
  {
   "cell_type": "code",
   "execution_count": 96,
   "id": "5f343ee9",
   "metadata": {},
   "outputs": [
    {
     "data": {
      "text/plain": [
       "(22274, 1)"
      ]
     },
     "execution_count": 96,
     "metadata": {},
     "output_type": "execute_result"
    }
   ],
   "source": [
    "dataset = np.log1p(data_df2[['PM2.5']].values)\n",
    "dataset.shape"
   ]
  },
  {
   "cell_type": "code",
   "execution_count": 97,
   "id": "357e83a2",
   "metadata": {
    "scrolled": true
   },
   "outputs": [
    {
     "data": {
      "text/plain": [
       "<Figure size 864x360 with 0 Axes>"
      ]
     },
     "metadata": {},
     "output_type": "display_data"
    },
    {
     "data": {
      "image/png": "[encoded data removed]",
      "text/plain": [
       "<Figure size 432x288 with 2 Axes>"
      ]
     },
     "metadata": {
      "needs_background": "light"
     },
     "output_type": "display_data"
    }
   ],
   "source": [
    "dist_df = pd.DataFrame({'PM2.5' : data_df2['PM2.5'].values, 'log_PM2.5' : dataset[:,0]})\n",
    "\n",
    "# histogram plot original vs log transform data\n",
    "plt.figure(figsize=(12,5))\n",
    "dist_df.hist();"
   ]
  },
  {
   "cell_type": "code",
   "execution_count": 98,
   "id": "97f8317d",
   "metadata": {},
   "outputs": [
    {
     "name": "stdout",
     "output_type": "stream",
     "text": [
      "17819 4455\n"
     ]
    }
   ],
   "source": [
    "train_size = int(len(dataset) * 0.80)\n",
    "test_size = len(dataset) - train_size\n",
    "train, test = dataset[0:train_size,:], dataset[train_size:len(dataset),:]\n",
    "print(len(train), len(test))"
   ]
  },
  {
   "cell_type": "code",
   "execution_count": 99,
   "id": "17b5eac5",
   "metadata": {},
   "outputs": [],
   "source": [
    "def create_dataset(dataset, look_back=1):\n",
    "    dataX, dataY = [], []\n",
    "    for i in range(len(dataset)-look_back-1):\n",
    "        a = dataset[i:(i+look_back), 0]\n",
    "        dataX.append(a)\n",
    "        dataY.append(dataset[i + look_back, 0])\n",
    "    return np.array(dataX), np.array(dataY)"
   ]
  },
  {
   "cell_type": "code",
   "execution_count": 100,
   "id": "1f591bd9",
   "metadata": {
    "scrolled": true
   },
   "outputs": [
    {
     "name": "stdout",
     "output_type": "stream",
     "text": [
      "Shape of trainX : (17817, 1)\n",
      "Shape of trainY : (17817,)\n",
      "Shape of testX : (4453, 1)\n",
      "Shape of testY : (4453,)\n"
     ]
    }
   ],
   "source": [
    "look_back = 1\n",
    "trainX, trainY = create_dataset(train, look_back)\n",
    "testX, testY = create_dataset(test, look_back)\n",
    "\n",
    "print('Shape of trainX :', trainX.shape)\n",
    "print('Shape of trainY :', trainY.shape)\n",
    "print('Shape of testX :', testX.shape)\n",
    "print('Shape of testY :', testY.shape)"
   ]
  },
  {
   "cell_type": "code",
   "execution_count": 101,
   "id": "c2c92d42",
   "metadata": {},
   "outputs": [
    {
     "name": "stdout",
     "output_type": "stream",
     "text": [
      "Shape of trainX : (17817, 1, 1)\n",
      "Shape of testX : (4453, 1, 1)\n"
     ]
    }
   ],
   "source": [
    "trainX = np.reshape(trainX, (trainX.shape[0], 1, trainX.shape[1]))\n",
    "testX = np.reshape(testX, (testX.shape[0], 1, testX.shape[1]))\n",
    "\n",
    "print('Shape of trainX :', trainX.shape)\n",
    "print('Shape of testX :', testX.shape)"
   ]
  },
  {
   "cell_type": "code",
   "execution_count": 102,
   "id": "879cc16a",
   "metadata": {
    "scrolled": true
   },
   "outputs": [
    {
     "name": "stdout",
     "output_type": "stream",
     "text": [
      "Epoch 1/100\n",
      "557/557 - 3s - loss: 8.6370e-04 - 3s/epoch - 6ms/step\n",
      "Epoch 2/100\n",
      "557/557 - 1s - loss: 4.9304e-04 - 1s/epoch - 2ms/step\n",
      "Epoch 3/100\n",
      "557/557 - 1s - loss: 4.8875e-04 - 1s/epoch - 2ms/step\n",
      "Epoch 4/100\n",
      "557/557 - 1s - loss: 4.8798e-04 - 784ms/epoch - 1ms/step\n",
      "Epoch 5/100\n",
      "557/557 - 1s - loss: 4.8867e-04 - 754ms/epoch - 1ms/step\n",
      "Epoch 6/100\n",
      "557/557 - 1s - loss: 4.8996e-04 - 873ms/epoch - 2ms/step\n",
      "Epoch 7/100\n",
      "557/557 - 1s - loss: 4.9042e-04 - 898ms/epoch - 2ms/step\n",
      "Epoch 8/100\n",
      "557/557 - 1s - loss: 4.9023e-04 - 875ms/epoch - 2ms/step\n",
      "Epoch 9/100\n",
      "557/557 - 1s - loss: 4.9036e-04 - 874ms/epoch - 2ms/step\n",
      "Epoch 10/100\n",
      "557/557 - 1s - loss: 4.9054e-04 - 859ms/epoch - 2ms/step\n",
      "Epoch 11/100\n",
      "557/557 - 1s - loss: 4.8812e-04 - 892ms/epoch - 2ms/step\n",
      "Epoch 12/100\n",
      "557/557 - 1s - loss: 4.8949e-04 - 902ms/epoch - 2ms/step\n",
      "Epoch 13/100\n",
      "557/557 - 1s - loss: 4.9126e-04 - 787ms/epoch - 1ms/step\n",
      "Epoch 14/100\n",
      "557/557 - 1s - loss: 4.8917e-04 - 827ms/epoch - 1ms/step\n",
      "Epoch 15/100\n",
      "557/557 - 1s - loss: 4.8850e-04 - 810ms/epoch - 1ms/step\n",
      "Epoch 16/100\n",
      "557/557 - 1s - loss: 4.9083e-04 - 850ms/epoch - 2ms/step\n",
      "Epoch 17/100\n",
      "557/557 - 1s - loss: 4.9026e-04 - 850ms/epoch - 2ms/step\n",
      "Epoch 18/100\n",
      "557/557 - 1s - loss: 4.9008e-04 - 863ms/epoch - 2ms/step\n",
      "Epoch 19/100\n",
      "557/557 - 1s - loss: 4.8968e-04 - 876ms/epoch - 2ms/step\n",
      "Epoch 20/100\n",
      "557/557 - 1s - loss: 4.8758e-04 - 792ms/epoch - 1ms/step\n",
      "Epoch 21/100\n",
      "557/557 - 1s - loss: 4.9033e-04 - 834ms/epoch - 1ms/step\n",
      "Epoch 22/100\n",
      "557/557 - 1s - loss: 4.8940e-04 - 850ms/epoch - 2ms/step\n",
      "Epoch 23/100\n",
      "557/557 - 1s - loss: 4.8881e-04 - 842ms/epoch - 2ms/step\n",
      "Epoch 24/100\n",
      "557/557 - 1s - loss: 4.8930e-04 - 819ms/epoch - 1ms/step\n",
      "Epoch 25/100\n",
      "557/557 - 1s - loss: 4.8935e-04 - 868ms/epoch - 2ms/step\n",
      "Epoch 26/100\n",
      "557/557 - 1s - loss: 4.8842e-04 - 862ms/epoch - 2ms/step\n",
      "Epoch 27/100\n",
      "557/557 - 1s - loss: 4.8940e-04 - 799ms/epoch - 1ms/step\n",
      "Epoch 28/100\n",
      "557/557 - 1s - loss: 4.8849e-04 - 784ms/epoch - 1ms/step\n",
      "Epoch 29/100\n",
      "557/557 - 1s - loss: 4.8827e-04 - 856ms/epoch - 2ms/step\n",
      "Epoch 30/100\n",
      "557/557 - 1s - loss: 4.8944e-04 - 889ms/epoch - 2ms/step\n",
      "Epoch 31/100\n",
      "557/557 - 1s - loss: 4.8935e-04 - 892ms/epoch - 2ms/step\n",
      "Epoch 32/100\n",
      "557/557 - 1s - loss: 4.8974e-04 - 1s/epoch - 2ms/step\n",
      "Epoch 33/100\n",
      "557/557 - 1s - loss: 4.8959e-04 - 896ms/epoch - 2ms/step\n",
      "Epoch 34/100\n",
      "557/557 - 1s - loss: 4.8896e-04 - 808ms/epoch - 1ms/step\n",
      "Epoch 35/100\n",
      "557/557 - 1s - loss: 4.8936e-04 - 869ms/epoch - 2ms/step\n",
      "Epoch 36/100\n",
      "557/557 - 1s - loss: 4.9032e-04 - 888ms/epoch - 2ms/step\n",
      "Epoch 37/100\n",
      "557/557 - 1s - loss: 4.9044e-04 - 893ms/epoch - 2ms/step\n",
      "Epoch 38/100\n",
      "557/557 - 1s - loss: 4.8928e-04 - 871ms/epoch - 2ms/step\n",
      "Epoch 39/100\n",
      "557/557 - 1s - loss: 4.9028e-04 - 923ms/epoch - 2ms/step\n",
      "Epoch 40/100\n",
      "557/557 - 1s - loss: 4.8923e-04 - 890ms/epoch - 2ms/step\n",
      "Epoch 41/100\n",
      "557/557 - 1s - loss: 4.8970e-04 - 896ms/epoch - 2ms/step\n",
      "Epoch 42/100\n",
      "557/557 - 1s - loss: 4.8823e-04 - 1s/epoch - 2ms/step\n",
      "Epoch 43/100\n",
      "557/557 - 1s - loss: 4.8919e-04 - 965ms/epoch - 2ms/step\n",
      "Epoch 44/100\n",
      "557/557 - 1s - loss: 4.9051e-04 - 907ms/epoch - 2ms/step\n",
      "Epoch 45/100\n",
      "557/557 - 1s - loss: 4.8811e-04 - 874ms/epoch - 2ms/step\n",
      "Epoch 46/100\n",
      "557/557 - 1s - loss: 4.8924e-04 - 869ms/epoch - 2ms/step\n",
      "Epoch 47/100\n",
      "557/557 - 1s - loss: 4.8854e-04 - 873ms/epoch - 2ms/step\n",
      "Epoch 48/100\n",
      "557/557 - 1s - loss: 4.8991e-04 - 894ms/epoch - 2ms/step\n",
      "Epoch 49/100\n",
      "557/557 - 1s - loss: 4.8836e-04 - 960ms/epoch - 2ms/step\n",
      "Epoch 50/100\n",
      "557/557 - 1s - loss: 4.8971e-04 - 872ms/epoch - 2ms/step\n",
      "Epoch 51/100\n",
      "557/557 - 1s - loss: 4.8932e-04 - 870ms/epoch - 2ms/step\n",
      "Epoch 52/100\n",
      "557/557 - 1s - loss: 4.8847e-04 - 844ms/epoch - 2ms/step\n",
      "Epoch 53/100\n",
      "557/557 - 1s - loss: 4.8923e-04 - 881ms/epoch - 2ms/step\n",
      "Epoch 54/100\n",
      "557/557 - 1s - loss: 4.8837e-04 - 805ms/epoch - 1ms/step\n",
      "Epoch 55/100\n",
      "557/557 - 1s - loss: 4.8792e-04 - 870ms/epoch - 2ms/step\n",
      "Epoch 56/100\n",
      "557/557 - 1s - loss: 4.8829e-04 - 817ms/epoch - 1ms/step\n",
      "Epoch 57/100\n",
      "557/557 - 1s - loss: 4.8845e-04 - 754ms/epoch - 1ms/step\n",
      "Epoch 58/100\n",
      "557/557 - 1s - loss: 4.8882e-04 - 798ms/epoch - 1ms/step\n",
      "Epoch 59/100\n",
      "557/557 - 1s - loss: 4.8947e-04 - 846ms/epoch - 2ms/step\n",
      "Epoch 60/100\n",
      "557/557 - 1s - loss: 4.8846e-04 - 821ms/epoch - 1ms/step\n",
      "Epoch 61/100\n",
      "557/557 - 1s - loss: 4.8907e-04 - 833ms/epoch - 1ms/step\n",
      "Epoch 62/100\n",
      "557/557 - 1s - loss: 4.8920e-04 - 743ms/epoch - 1ms/step\n",
      "Epoch 63/100\n",
      "557/557 - 1s - loss: 4.8892e-04 - 846ms/epoch - 2ms/step\n",
      "Epoch 64/100\n",
      "557/557 - 1s - loss: 4.8983e-04 - 897ms/epoch - 2ms/step\n",
      "Epoch 65/100\n",
      "557/557 - 1s - loss: 4.8946e-04 - 814ms/epoch - 1ms/step\n",
      "Epoch 66/100\n",
      "557/557 - 1s - loss: 4.8897e-04 - 801ms/epoch - 1ms/step\n",
      "Epoch 67/100\n",
      "557/557 - 1s - loss: 4.9030e-04 - 885ms/epoch - 2ms/step\n",
      "Epoch 68/100\n",
      "557/557 - 1s - loss: 4.8849e-04 - 915ms/epoch - 2ms/step\n",
      "Epoch 69/100\n",
      "557/557 - 1s - loss: 4.8831e-04 - 839ms/epoch - 2ms/step\n",
      "Epoch 70/100\n",
      "557/557 - 1s - loss: 4.8857e-04 - 862ms/epoch - 2ms/step\n",
      "Epoch 71/100\n",
      "557/557 - 1s - loss: 4.9050e-04 - 903ms/epoch - 2ms/step\n",
      "Epoch 72/100\n",
      "557/557 - 1s - loss: 4.8959e-04 - 928ms/epoch - 2ms/step\n",
      "Epoch 73/100\n",
      "557/557 - 1s - loss: 4.8942e-04 - 887ms/epoch - 2ms/step\n",
      "Epoch 74/100\n",
      "557/557 - 1s - loss: 4.8808e-04 - 854ms/epoch - 2ms/step\n",
      "Epoch 75/100\n",
      "557/557 - 1s - loss: 4.8810e-04 - 893ms/epoch - 2ms/step\n",
      "Epoch 76/100\n",
      "557/557 - 1s - loss: 4.8957e-04 - 879ms/epoch - 2ms/step\n",
      "Epoch 77/100\n",
      "557/557 - 1s - loss: 4.8853e-04 - 888ms/epoch - 2ms/step\n",
      "Epoch 78/100\n",
      "557/557 - 1s - loss: 4.8925e-04 - 912ms/epoch - 2ms/step\n",
      "Epoch 79/100\n",
      "557/557 - 1s - loss: 4.8895e-04 - 923ms/epoch - 2ms/step\n",
      "Epoch 80/100\n",
      "557/557 - 1s - loss: 4.8884e-04 - 864ms/epoch - 2ms/step\n",
      "Epoch 81/100\n",
      "557/557 - 1s - loss: 4.8939e-04 - 853ms/epoch - 2ms/step\n",
      "Epoch 82/100\n",
      "557/557 - 1s - loss: 4.8860e-04 - 868ms/epoch - 2ms/step\n",
      "Epoch 83/100\n",
      "557/557 - 1s - loss: 4.8909e-04 - 903ms/epoch - 2ms/step\n",
      "Epoch 84/100\n",
      "557/557 - 1s - loss: 4.8914e-04 - 925ms/epoch - 2ms/step\n",
      "Epoch 85/100\n",
      "557/557 - 1s - loss: 4.8949e-04 - 898ms/epoch - 2ms/step\n",
      "Epoch 86/100\n",
      "557/557 - 1s - loss: 4.8866e-04 - 891ms/epoch - 2ms/step\n",
      "Epoch 87/100\n",
      "557/557 - 1s - loss: 4.8865e-04 - 852ms/epoch - 2ms/step\n",
      "Epoch 88/100\n",
      "557/557 - 1s - loss: 4.8849e-04 - 786ms/epoch - 1ms/step\n",
      "Epoch 89/100\n",
      "557/557 - 1s - loss: 4.8748e-04 - 731ms/epoch - 1ms/step\n",
      "Epoch 90/100\n",
      "557/557 - 1s - loss: 4.8942e-04 - 783ms/epoch - 1ms/step\n",
      "Epoch 91/100\n",
      "557/557 - 1s - loss: 4.8867e-04 - 866ms/epoch - 2ms/step\n",
      "Epoch 92/100\n",
      "557/557 - 1s - loss: 4.8870e-04 - 902ms/epoch - 2ms/step\n",
      "Epoch 93/100\n",
      "557/557 - 1s - loss: 4.8939e-04 - 846ms/epoch - 2ms/step\n",
      "Epoch 94/100\n",
      "557/557 - 1s - loss: 4.8776e-04 - 869ms/epoch - 2ms/step\n",
      "Epoch 95/100\n",
      "557/557 - 1s - loss: 4.8922e-04 - 835ms/epoch - 1ms/step\n",
      "Epoch 96/100\n",
      "557/557 - 1s - loss: 4.8839e-04 - 858ms/epoch - 2ms/step\n",
      "Epoch 97/100\n",
      "557/557 - 1s - loss: 4.8962e-04 - 843ms/epoch - 2ms/step\n",
      "Epoch 98/100\n",
      "557/557 - 1s - loss: 4.8921e-04 - 869ms/epoch - 2ms/step\n",
      "Epoch 99/100\n",
      "557/557 - 1s - loss: 4.9025e-04 - 857ms/epoch - 2ms/step\n",
      "Epoch 100/100\n",
      "557/557 - 1s - loss: 4.8863e-04 - 837ms/epoch - 2ms/step\n"
     ]
    },
    {
     "data": {
      "text/plain": [
       "<keras.callbacks.History at 0x1d3b7d49a60>"
      ]
     },
     "execution_count": 102,
     "metadata": {},
     "output_type": "execute_result"
    }
   ],
   "source": [
    "model = Sequential()\n",
    "model.add(LSTM(4, input_shape=(1, look_back)))\n",
    "model.add(Dense(1))\n",
    "model.compile(loss='mean_squared_error', optimizer='adam')\n",
    "model.fit(trainX, trainY, epochs=100, batch_size=32, verbose=2)"
   ]
  },
  {
   "cell_type": "code",
   "execution_count": 103,
   "id": "77b0ff50",
   "metadata": {},
   "outputs": [],
   "source": [
    "trainPredict = model.predict(trainX)\n",
    "testPredict = model.predict(testX)\n",
    "\n",
    "# invert predictions\n",
    "trainPredict = np.expm1(trainPredict)\n",
    "trainY = np.expm1(trainY)\n",
    "testPredict = np.expm1(testPredict)\n",
    "testY = np.expm1(testY)"
   ]
  },
  {
   "cell_type": "code",
   "execution_count": null,
   "id": "c9f9048e",
   "metadata": {},
   "outputs": [],
   "source": [
    "# calculate root mean squared error\n",
    "trainScore = math.sqrt(mean_squared_error(trainY, trainPredict[:,0]))\n",
    "print('Train Score: %.2f RMSE' % (trainScore))\n",
    "testScore = math.sqrt(mean_squared_error(testY, testPredict[:,0]))\n",
    "print('Test Score: %.2f RMSE' % (testScore))"
   ]
  },
  {
   "cell_type": "code",
   "execution_count": null,
   "id": "ded68313",
   "metadata": {},
   "outputs": [],
   "source": [
    "test_series = pd.Series(testY)\n",
    "\n",
    "# state of model performance\n",
    "if testScore < test_series.std():\n",
    "    print('\\n[ Model performance is GOOD enough ]')\n",
    "    print('\\nRMSE of test prediction < Standard deviation of test dataset')\n",
    "    print('%.2f' % (testScore), '<', '%.2f' % (test_series.std()))\n",
    "else:\n",
    "    print('\\n[ Model performance is NOT GOOD enough ]')\n",
    "    print('\\nRMSE of test prediction > Standard deviation of test dataset')\n",
    "    print('%.2f' % (testScore), '>', '%.2f' % (test_series.std()))"
   ]
  },
  {
   "cell_type": "code",
   "execution_count": null,
   "id": "87348a43",
   "metadata": {},
   "outputs": [],
   "source": [
    "# shift train predictions for plotting\n",
    "trainPredictPlot = np.empty_like(dataset)\n",
    "trainPredictPlot[:, :] = np.nan\n",
    "trainPredictPlot[look_back:len(trainPredict)+look_back, :] = trainPredict\n",
    "\n",
    "# shift test predictions for plotting\n",
    "testPredictPlot = np.empty_like(dataset)\n",
    "testPredictPlot[:, :] = np.nan\n",
    "testPredictPlot[len(trainPredict)+(look_back*2)+1:len(dataset)-1, :] = testPredict\n",
    "\n",
    "# plot original dataset and predictions\n",
    "time_axis = np.linspace(0, dataset.shape[0]-1, 15)\n",
    "time_axis = np.array([int(i) for i in time_axis])\n",
    "time_axisLab = np.array(data_df.index, dtype='datetime64[D]')\n",
    "\n",
    "fig = plt.figure()\n",
    "ax = fig.add_axes([0, 0, 2.1, 2])\n",
    "ax.plot(np.expm1(dataset), label='Original Dataset')\n",
    "ax.plot(trainPredictPlot, color='orange', label='Train Prediction')\n",
    "ax.plot(testPredictPlot, color='red', label='Test Prediction')\n",
    "ax.set_xticks(time_axis)\n",
    "ax.set_xticklabels(time_axisLab[time_axis], rotation=45)\n",
    "ax.set_xlabel('\\nDate', fontsize=27, fontweight='bold')\n",
    "ax.set_ylabel('PM2.5', fontsize=27, fontweight='bold')\n",
    "ax.legend(loc='best', prop= {'size':20})\n",
    "ax.tick_params(size=10, labelsize=15)\n",
    "ax.set_xlim([-1,1735])\n",
    "\n",
    "ax1 = fig.add_axes([2.3, 1.3, 1, 0.7])\n",
    "ax1.plot(np.expm1(dataset), label='Original Dataset')\n",
    "ax1.plot(testPredictPlot, color='red', label='Test Prediction')\n",
    "ax1.set_xticks(time_axis)\n",
    "ax1.set_xticklabels(time_axisLab[time_axis], rotation=45)\n",
    "ax1.set_xlabel('Date', fontsize=27, fontweight='bold')\n",
    "ax1.set_ylabel('PM2.5', fontsize=27, fontweight='bold')\n",
    "ax1.tick_params(size=10, labelsize=15)\n",
    "ax1.set_xlim([1360,1735]);"
   ]
  },
  {
   "cell_type": "code",
   "execution_count": null,
   "id": "1ebde563",
   "metadata": {
    "scrolled": true
   },
   "outputs": [],
   "source": [
    "correlations = data_df2.corr()\n",
    "fig, ax = plt.subplots(figsize=(15,15))\n",
    "sns.heatmap(correlations, vmax=1.0, center=0, fmt='.2f', square=True, linewidths=.5, annot=True, cbar_kws={\"shrink\": .70})\n",
    "plt.show();\n",
    "#ciekawa sprawa, im wiekszy czas do tyłu w kontekscie wiatru, tym wieksza korelacja xd"
   ]
  },
  {
   "cell_type": "code",
   "execution_count": null,
   "id": "4de85abd",
   "metadata": {},
   "outputs": [],
   "source": [
    "bins = [-1, 10, 20, 30, 40,50, np.inf]\n",
    "names = ['0-10 km/h', '10-20 km/h', '20-30 km/h', '30-40 km/h', '40-50 km/h','>50 km/h']\n",
    "data_df['speed_kmhRange'] = pd.cut(data_df['Predkosc wiatru'], bins, labels=names)"
   ]
  },
  {
   "cell_type": "code",
   "execution_count": null,
   "id": "9f2b0b6b",
   "metadata": {},
   "outputs": [],
   "source": [
    "bins = [-1, 10, 30, 50, 70,100, np.inf]\n",
    "names = ['0-10', '10-30', '30-50', '50-70', '70-100','>1000']\n",
    "data_df['PM2.5Range'] = pd.cut(data_df['PM2.5'], bins, labels=names)"
   ]
  },
  {
   "cell_type": "code",
   "execution_count": null,
   "id": "559b2533",
   "metadata": {},
   "outputs": [],
   "source": [
    "bins = np.linspace(0, 360, 17)+11.25\n",
    "bins = np.insert(bins, 0, 0)\n",
    "names = ['N','NNE','NE','ENE','E','ESE','SE','SSE','S','SSW','SW','WSW','W','WNW','NW','NNW', 'N2']\n",
    "data_df['kierunek_range'] = pd.cut(data_df['Kierunek wiatru'], bins, labels=names)\n",
    "data_df['kierunek_range']= data_df['kierunek_range'].replace('N2', 'N')\n"
   ]
  },
  {
   "cell_type": "code",
   "execution_count": null,
   "id": "8404f6b6",
   "metadata": {
    "scrolled": false
   },
   "outputs": [],
   "source": [
    "data_df.tail(100)"
   ]
  },
  {
   "cell_type": "code",
   "execution_count": null,
   "id": "e3b12494",
   "metadata": {},
   "outputs": [],
   "source": [
    "import plotly.express as px"
   ]
  },
  {
   "cell_type": "code",
   "execution_count": null,
   "id": "1f89cb46",
   "metadata": {},
   "outputs": [],
   "source": [
    "data_df = data_df.sort_values(by=\"PM2.5\")\n",
    "#tutaj TO DO: ogarnac te wykresy, bo chyba sa zle, nie sa grupowane i to pewnie to"
   ]
  },
  {
   "cell_type": "code",
   "execution_count": null,
   "id": "99d9b475",
   "metadata": {},
   "outputs": [],
   "source": [
    "fig = px.bar_polar(data_df, r=\"PM2.5Range\", theta=\"kierunek_range\")\n",
    "fig.show()"
   ]
  },
  {
   "cell_type": "code",
   "execution_count": null,
   "id": "8e2157e2",
   "metadata": {},
   "outputs": [],
   "source": [
    "data_df = data_df.sort_values(by=\"Predkosc wiatru\")\n",
    "fig = px.bar_polar(data_df, r=\"Predkosc wiatru\", theta=\"kierunek_range\")\n",
    "fig.show()"
   ]
  },
  {
   "cell_type": "code",
   "execution_count": null,
   "id": "2b0886fe",
   "metadata": {},
   "outputs": [],
   "source": [
    "data_df = data_df.reset_index()"
   ]
  },
  {
   "cell_type": "code",
   "execution_count": null,
   "id": "df599a90",
   "metadata": {},
   "outputs": [],
   "source": [
    "data_df['M'] = pd.to_datetime(data_df['Data']).dt.month"
   ]
  },
  {
   "cell_type": "code",
   "execution_count": null,
   "id": "0fc4758d",
   "metadata": {
    "scrolled": false
   },
   "outputs": [],
   "source": [
    "#sns.jointplot(x=data_df['Opady 6hr_avg'], y=data_df['PM2.5'], data = data_df)"
   ]
  },
  {
   "cell_type": "code",
   "execution_count": null,
   "id": "56945324",
   "metadata": {},
   "outputs": [],
   "source": [
    "sns.jointplot(x=data_df['PM10'], y=data_df['PM2.5'], data = data_df)"
   ]
  },
  {
   "cell_type": "code",
   "execution_count": null,
   "id": "bbcf5344",
   "metadata": {
    "scrolled": true
   },
   "outputs": [],
   "source": [
    "data_df['Data'] = pd.to_datetime(data['Data'], format='%Y%m%d %H')\n",
    "data.groupby(pd.to_datetime(data['Data']).dt.hour).count()\n"
   ]
  },
  {
   "cell_type": "code",
   "execution_count": null,
   "id": "ddc8cf08",
   "metadata": {
    "scrolled": true
   },
   "outputs": [],
   "source": [
    "sns.jointplot(x=data_df['M'], y=data_df['PM2.5'], data = data_df)"
   ]
  },
  {
   "cell_type": "code",
   "execution_count": null,
   "id": "f5d67080",
   "metadata": {
    "scrolled": true
   },
   "outputs": [],
   "source": [
    "# temp_df = pd.DataFrame()\n",
    "# for i in range(len(data_df)):\n",
    "#     temp_df = pd.concat([temp_df,pd.DataFrame({'PM2.5 6hr_avg':[sum(data_df['AirTemperature'].iloc[i:i+6])/6]}, index = [i+6])]) \n",
    "# data_df = pd.merge(data_df, six_df, left_index=True, right_index=True)"
   ]
  }
 ],
 "metadata": {
  "kernelspec": {
   "display_name": "Python 3 (ipykernel)",
   "language": "python",
   "name": "python3"
  },
  "language_info": {
   "codemirror_mode": {
    "name": "ipython",
    "version": 3
   },
   "file_extension": ".py",
   "mimetype": "text/x-python",
   "name": "python",
   "nbconvert_exporter": "python",
   "pygments_lexer": "ipython3",
   "version": "3.9.5"
  }
 },
 "nbformat": 4,
 "nbformat_minor": 5
}
