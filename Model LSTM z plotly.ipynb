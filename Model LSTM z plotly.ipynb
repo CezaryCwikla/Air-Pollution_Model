{
 "cells": [
  {
   "cell_type": "code",
   "execution_count": 2,
   "id": "d6e82db0",
   "metadata": {},
   "outputs": [],
   "source": [
    "import pandas as pd\n",
    "import numpy as np\n",
    "import math\n",
    "import keras\n",
    "import tensorflow as tf\n",
    "import plotly.graph_objects as go\n",
    "\n",
    "from sklearn.preprocessing import LabelEncoder, MinMaxScaler\n",
    "from sklearn.metrics import mean_squared_error\n",
    "from keras.preprocessing.sequence import TimeseriesGenerator\n",
    "from keras.models import Sequential\n",
    "from keras.layers import LSTM, Dense\n"
   ]
  },
  {
   "cell_type": "code",
   "execution_count": 3,
   "id": "031fef6d",
   "metadata": {},
   "outputs": [],
   "source": [
    "# TO DO__\n",
    "# pobawić się parametrami\n",
    "# sposobem budwoania, liczba warst liczba neuronow itp\n",
    "# pobawic sie wykresami i stworzyc jakies moze ladne te wykresy w koncu"
   ]
  },
  {
   "cell_type": "code",
   "execution_count": 4,
   "id": "ebc6ffd2",
   "metadata": {},
   "outputs": [],
   "source": [
    "data = pd.read_csv('Data/Scalanie2_2.csv', parse_dates=['Data'])\n",
    "\n",
    "data.rename(columns = {'(pył zawieszony PM2.5 [jednostka ug/m3])':'PM2.5'\n",
    "                    , '(pył zawieszony PM10 [jednostka ug/m3])':'PM10'\n",
    "                    , '(tlenek azotu [jednostka ug/m3])':'NO'\n",
    "                    , '(tlenki azotu [jednostka ug/m3])':'NOs'\n",
    "                    , '(tlenek węgla [jednostka ug/m3])':'CO'\n",
    "                    , '(benzen [jednostka ug/m3])':'benzen'\n",
    "                    , '(dwutlenek azotu [jednostka ug/m3])':'NO2'\n",
    "                    , 'B00202A (2).Wynik':'Kierunek wiatru'\n",
    "                    , 'Scalanie1.B00300S.Wynik':'Temperatura powietrza'\n",
    "                    , 'Scalanie1.B00606S.Wynik':'Opady'\n",
    "                    , 'Scalanie1.B00702A.Wynik':'Predkosc wiatru'\n",
    "                    , 'Scalanie1.B00703A.Wynik':'MAX Predkosc wiatru'\n",
    "                    , 'Scalanie1.B00802A.Wynik':'Wilgotnosc powietrza'\n",
    "                    }, inplace = True)\n",
    "\n",
    "data.dropna(inplace=True)\n",
    "#data_df = data\n",
    "# data_df = data_df.reset_index()\n",
    "# data_df = data_df.drop('index', axis=1)\n",
    "# data_df.index = data_df['Data']\n",
    "\n",
    "data = data.drop(['Scalanie1.Stacja','Scalanie1.Data','Scalanie1.Rodzaj'], axis=1)\n",
    "data['Data'] = pd.to_datetime(data['Data'])\n",
    "data = data.sort_values(by=\"Data\")\n",
    "\n",
    "data.set_axis(data['Data'], inplace=True)\n",
    "data.drop(columns=[ 'PM10', 'CO', 'NO2','benzen', 'NO', 'NOs'], inplace=True)\n",
    "data = data.drop('Data', axis=1)\n"
   ]
  },
  {
   "cell_type": "code",
   "execution_count": 5,
   "id": "d9932107",
   "metadata": {},
   "outputs": [
    {
     "data": {
      "text/plain": [
       "(22284, 7)"
      ]
     },
     "execution_count": 5,
     "metadata": {},
     "output_type": "execute_result"
    }
   ],
   "source": [
    "data.shape"
   ]
  },
  {
   "cell_type": "code",
   "execution_count": 6,
   "id": "0a9a6b7c",
   "metadata": {},
   "outputs": [
    {
     "data": {
      "text/html": [
       "<div>\n",
       "<style scoped>\n",
       "    .dataframe tbody tr th:only-of-type {\n",
       "        vertical-align: middle;\n",
       "    }\n",
       "\n",
       "    .dataframe tbody tr th {\n",
       "        vertical-align: top;\n",
       "    }\n",
       "\n",
       "    .dataframe thead th {\n",
       "        text-align: right;\n",
       "    }\n",
       "</style>\n",
       "<table border=\"1\" class=\"dataframe\">\n",
       "  <thead>\n",
       "    <tr style=\"text-align: right;\">\n",
       "      <th></th>\n",
       "      <th>PM2.5</th>\n",
       "      <th>Temperatura powietrza</th>\n",
       "      <th>Opady</th>\n",
       "      <th>Predkosc wiatru</th>\n",
       "      <th>MAX Predkosc wiatru</th>\n",
       "      <th>Wilgotnosc powietrza</th>\n",
       "      <th>Kierunek wiatru</th>\n",
       "    </tr>\n",
       "    <tr>\n",
       "      <th>Data</th>\n",
       "      <th></th>\n",
       "      <th></th>\n",
       "      <th></th>\n",
       "      <th></th>\n",
       "      <th></th>\n",
       "      <th></th>\n",
       "      <th></th>\n",
       "    </tr>\n",
       "  </thead>\n",
       "  <tbody>\n",
       "    <tr>\n",
       "      <th>2019-01-01 01:00:00</th>\n",
       "      <td>34.7</td>\n",
       "      <td>0.566667</td>\n",
       "      <td>0.0</td>\n",
       "      <td>4.016667</td>\n",
       "      <td>4.666667</td>\n",
       "      <td>95.500000</td>\n",
       "      <td>251.666667</td>\n",
       "    </tr>\n",
       "    <tr>\n",
       "      <th>2019-01-01 02:00:00</th>\n",
       "      <td>26.0</td>\n",
       "      <td>0.050000</td>\n",
       "      <td>0.0</td>\n",
       "      <td>3.650000</td>\n",
       "      <td>4.333333</td>\n",
       "      <td>96.666667</td>\n",
       "      <td>235.666667</td>\n",
       "    </tr>\n",
       "    <tr>\n",
       "      <th>2019-01-01 03:00:00</th>\n",
       "      <td>25.3</td>\n",
       "      <td>-0.500000</td>\n",
       "      <td>0.0</td>\n",
       "      <td>2.850000</td>\n",
       "      <td>3.500000</td>\n",
       "      <td>95.333333</td>\n",
       "      <td>216.166667</td>\n",
       "    </tr>\n",
       "    <tr>\n",
       "      <th>2019-01-01 04:00:00</th>\n",
       "      <td>28.2</td>\n",
       "      <td>-0.566667</td>\n",
       "      <td>0.0</td>\n",
       "      <td>3.633333</td>\n",
       "      <td>4.333333</td>\n",
       "      <td>94.833333</td>\n",
       "      <td>207.333333</td>\n",
       "    </tr>\n",
       "    <tr>\n",
       "      <th>2019-01-01 05:00:00</th>\n",
       "      <td>32.0</td>\n",
       "      <td>-0.933333</td>\n",
       "      <td>0.0</td>\n",
       "      <td>3.716667</td>\n",
       "      <td>4.166667</td>\n",
       "      <td>93.833333</td>\n",
       "      <td>202.833333</td>\n",
       "    </tr>\n",
       "    <tr>\n",
       "      <th>...</th>\n",
       "      <td>...</td>\n",
       "      <td>...</td>\n",
       "      <td>...</td>\n",
       "      <td>...</td>\n",
       "      <td>...</td>\n",
       "      <td>...</td>\n",
       "      <td>...</td>\n",
       "    </tr>\n",
       "    <tr>\n",
       "      <th>2021-12-31 19:00:00</th>\n",
       "      <td>18.6</td>\n",
       "      <td>6.700000</td>\n",
       "      <td>0.0</td>\n",
       "      <td>4.216667</td>\n",
       "      <td>6.100000</td>\n",
       "      <td>86.833333</td>\n",
       "      <td>219.833333</td>\n",
       "    </tr>\n",
       "    <tr>\n",
       "      <th>2021-12-31 20:00:00</th>\n",
       "      <td>16.6</td>\n",
       "      <td>7.050000</td>\n",
       "      <td>0.0</td>\n",
       "      <td>4.183333</td>\n",
       "      <td>5.766667</td>\n",
       "      <td>86.000000</td>\n",
       "      <td>220.333333</td>\n",
       "    </tr>\n",
       "    <tr>\n",
       "      <th>2021-12-31 21:00:00</th>\n",
       "      <td>18.5</td>\n",
       "      <td>6.766667</td>\n",
       "      <td>0.0</td>\n",
       "      <td>4.350000</td>\n",
       "      <td>6.216667</td>\n",
       "      <td>87.500000</td>\n",
       "      <td>213.833333</td>\n",
       "    </tr>\n",
       "    <tr>\n",
       "      <th>2021-12-31 22:00:00</th>\n",
       "      <td>17.4</td>\n",
       "      <td>6.250000</td>\n",
       "      <td>0.1</td>\n",
       "      <td>5.083333</td>\n",
       "      <td>6.933333</td>\n",
       "      <td>90.666667</td>\n",
       "      <td>206.166667</td>\n",
       "    </tr>\n",
       "    <tr>\n",
       "      <th>2021-12-31 23:00:00</th>\n",
       "      <td>15.6</td>\n",
       "      <td>6.233333</td>\n",
       "      <td>1.7</td>\n",
       "      <td>5.300000</td>\n",
       "      <td>7.416667</td>\n",
       "      <td>93.833333</td>\n",
       "      <td>212.000000</td>\n",
       "    </tr>\n",
       "  </tbody>\n",
       "</table>\n",
       "<p>22284 rows × 7 columns</p>\n",
       "</div>"
      ],
      "text/plain": [
       "                     PM2.5  Temperatura powietrza  Opady  Predkosc wiatru  \\\n",
       "Data                                                                        \n",
       "2019-01-01 01:00:00   34.7               0.566667    0.0         4.016667   \n",
       "2019-01-01 02:00:00   26.0               0.050000    0.0         3.650000   \n",
       "2019-01-01 03:00:00   25.3              -0.500000    0.0         2.850000   \n",
       "2019-01-01 04:00:00   28.2              -0.566667    0.0         3.633333   \n",
       "2019-01-01 05:00:00   32.0              -0.933333    0.0         3.716667   \n",
       "...                    ...                    ...    ...              ...   \n",
       "2021-12-31 19:00:00   18.6               6.700000    0.0         4.216667   \n",
       "2021-12-31 20:00:00   16.6               7.050000    0.0         4.183333   \n",
       "2021-12-31 21:00:00   18.5               6.766667    0.0         4.350000   \n",
       "2021-12-31 22:00:00   17.4               6.250000    0.1         5.083333   \n",
       "2021-12-31 23:00:00   15.6               6.233333    1.7         5.300000   \n",
       "\n",
       "                     MAX Predkosc wiatru  Wilgotnosc powietrza  \\\n",
       "Data                                                             \n",
       "2019-01-01 01:00:00             4.666667             95.500000   \n",
       "2019-01-01 02:00:00             4.333333             96.666667   \n",
       "2019-01-01 03:00:00             3.500000             95.333333   \n",
       "2019-01-01 04:00:00             4.333333             94.833333   \n",
       "2019-01-01 05:00:00             4.166667             93.833333   \n",
       "...                                  ...                   ...   \n",
       "2021-12-31 19:00:00             6.100000             86.833333   \n",
       "2021-12-31 20:00:00             5.766667             86.000000   \n",
       "2021-12-31 21:00:00             6.216667             87.500000   \n",
       "2021-12-31 22:00:00             6.933333             90.666667   \n",
       "2021-12-31 23:00:00             7.416667             93.833333   \n",
       "\n",
       "                     Kierunek wiatru  \n",
       "Data                                  \n",
       "2019-01-01 01:00:00       251.666667  \n",
       "2019-01-01 02:00:00       235.666667  \n",
       "2019-01-01 03:00:00       216.166667  \n",
       "2019-01-01 04:00:00       207.333333  \n",
       "2019-01-01 05:00:00       202.833333  \n",
       "...                              ...  \n",
       "2021-12-31 19:00:00       219.833333  \n",
       "2021-12-31 20:00:00       220.333333  \n",
       "2021-12-31 21:00:00       213.833333  \n",
       "2021-12-31 22:00:00       206.166667  \n",
       "2021-12-31 23:00:00       212.000000  \n",
       "\n",
       "[22284 rows x 7 columns]"
      ]
     },
     "execution_count": 6,
     "metadata": {},
     "output_type": "execute_result"
    }
   ],
   "source": [
    "data"
   ]
  },
  {
   "cell_type": "code",
   "execution_count": 7,
   "id": "6191a3ac",
   "metadata": {},
   "outputs": [],
   "source": [
    "split_percent = 0.80\n",
    "split = int(split_percent*len(data['PM2.5']))\n",
    "\n",
    "df_train = data[:split]\n",
    "df_test = data[split:]\n"
   ]
  },
  {
   "cell_type": "code",
   "execution_count": 8,
   "id": "e63c8cdf",
   "metadata": {},
   "outputs": [
    {
     "data": {
      "text/html": [
       "<div>\n",
       "<style scoped>\n",
       "    .dataframe tbody tr th:only-of-type {\n",
       "        vertical-align: middle;\n",
       "    }\n",
       "\n",
       "    .dataframe tbody tr th {\n",
       "        vertical-align: top;\n",
       "    }\n",
       "\n",
       "    .dataframe thead th {\n",
       "        text-align: right;\n",
       "    }\n",
       "</style>\n",
       "<table border=\"1\" class=\"dataframe\">\n",
       "  <thead>\n",
       "    <tr style=\"text-align: right;\">\n",
       "      <th></th>\n",
       "      <th>PM2.5</th>\n",
       "      <th>Temperatura powietrza</th>\n",
       "      <th>Opady</th>\n",
       "      <th>Predkosc wiatru</th>\n",
       "      <th>MAX Predkosc wiatru</th>\n",
       "      <th>Wilgotnosc powietrza</th>\n",
       "      <th>Kierunek wiatru</th>\n",
       "    </tr>\n",
       "    <tr>\n",
       "      <th>Data</th>\n",
       "      <th></th>\n",
       "      <th></th>\n",
       "      <th></th>\n",
       "      <th></th>\n",
       "      <th></th>\n",
       "      <th></th>\n",
       "      <th></th>\n",
       "    </tr>\n",
       "  </thead>\n",
       "  <tbody>\n",
       "    <tr>\n",
       "      <th>2019-01-01 01:00:00</th>\n",
       "      <td>34.7</td>\n",
       "      <td>0.566667</td>\n",
       "      <td>0.0</td>\n",
       "      <td>4.016667</td>\n",
       "      <td>4.666667</td>\n",
       "      <td>95.500000</td>\n",
       "      <td>251.666667</td>\n",
       "    </tr>\n",
       "    <tr>\n",
       "      <th>2019-01-01 02:00:00</th>\n",
       "      <td>26.0</td>\n",
       "      <td>0.050000</td>\n",
       "      <td>0.0</td>\n",
       "      <td>3.650000</td>\n",
       "      <td>4.333333</td>\n",
       "      <td>96.666667</td>\n",
       "      <td>235.666667</td>\n",
       "    </tr>\n",
       "    <tr>\n",
       "      <th>2019-01-01 03:00:00</th>\n",
       "      <td>25.3</td>\n",
       "      <td>-0.500000</td>\n",
       "      <td>0.0</td>\n",
       "      <td>2.850000</td>\n",
       "      <td>3.500000</td>\n",
       "      <td>95.333333</td>\n",
       "      <td>216.166667</td>\n",
       "    </tr>\n",
       "    <tr>\n",
       "      <th>2019-01-01 04:00:00</th>\n",
       "      <td>28.2</td>\n",
       "      <td>-0.566667</td>\n",
       "      <td>0.0</td>\n",
       "      <td>3.633333</td>\n",
       "      <td>4.333333</td>\n",
       "      <td>94.833333</td>\n",
       "      <td>207.333333</td>\n",
       "    </tr>\n",
       "    <tr>\n",
       "      <th>2019-01-01 05:00:00</th>\n",
       "      <td>32.0</td>\n",
       "      <td>-0.933333</td>\n",
       "      <td>0.0</td>\n",
       "      <td>3.716667</td>\n",
       "      <td>4.166667</td>\n",
       "      <td>93.833333</td>\n",
       "      <td>202.833333</td>\n",
       "    </tr>\n",
       "    <tr>\n",
       "      <th>...</th>\n",
       "      <td>...</td>\n",
       "      <td>...</td>\n",
       "      <td>...</td>\n",
       "      <td>...</td>\n",
       "      <td>...</td>\n",
       "      <td>...</td>\n",
       "      <td>...</td>\n",
       "    </tr>\n",
       "    <tr>\n",
       "      <th>2021-06-10 20:00:00</th>\n",
       "      <td>6.8</td>\n",
       "      <td>15.466667</td>\n",
       "      <td>0.0</td>\n",
       "      <td>2.316667</td>\n",
       "      <td>2.966667</td>\n",
       "      <td>70.500000</td>\n",
       "      <td>296.166667</td>\n",
       "    </tr>\n",
       "    <tr>\n",
       "      <th>2021-06-10 21:00:00</th>\n",
       "      <td>13.5</td>\n",
       "      <td>14.016667</td>\n",
       "      <td>0.0</td>\n",
       "      <td>2.600000</td>\n",
       "      <td>3.300000</td>\n",
       "      <td>79.166667</td>\n",
       "      <td>258.333333</td>\n",
       "    </tr>\n",
       "    <tr>\n",
       "      <th>2021-06-10 22:00:00</th>\n",
       "      <td>14.4</td>\n",
       "      <td>13.000000</td>\n",
       "      <td>0.0</td>\n",
       "      <td>3.200000</td>\n",
       "      <td>3.800000</td>\n",
       "      <td>85.333333</td>\n",
       "      <td>250.666667</td>\n",
       "    </tr>\n",
       "    <tr>\n",
       "      <th>2021-06-10 23:00:00</th>\n",
       "      <td>18.3</td>\n",
       "      <td>12.066667</td>\n",
       "      <td>0.0</td>\n",
       "      <td>2.250000</td>\n",
       "      <td>2.983333</td>\n",
       "      <td>88.833333</td>\n",
       "      <td>238.333333</td>\n",
       "    </tr>\n",
       "    <tr>\n",
       "      <th>2021-06-11 00:00:00</th>\n",
       "      <td>18.3</td>\n",
       "      <td>11.716667</td>\n",
       "      <td>0.0</td>\n",
       "      <td>2.316667</td>\n",
       "      <td>2.916667</td>\n",
       "      <td>90.833333</td>\n",
       "      <td>230.833333</td>\n",
       "    </tr>\n",
       "  </tbody>\n",
       "</table>\n",
       "<p>17827 rows × 7 columns</p>\n",
       "</div>"
      ],
      "text/plain": [
       "                     PM2.5  Temperatura powietrza  Opady  Predkosc wiatru  \\\n",
       "Data                                                                        \n",
       "2019-01-01 01:00:00   34.7               0.566667    0.0         4.016667   \n",
       "2019-01-01 02:00:00   26.0               0.050000    0.0         3.650000   \n",
       "2019-01-01 03:00:00   25.3              -0.500000    0.0         2.850000   \n",
       "2019-01-01 04:00:00   28.2              -0.566667    0.0         3.633333   \n",
       "2019-01-01 05:00:00   32.0              -0.933333    0.0         3.716667   \n",
       "...                    ...                    ...    ...              ...   \n",
       "2021-06-10 20:00:00    6.8              15.466667    0.0         2.316667   \n",
       "2021-06-10 21:00:00   13.5              14.016667    0.0         2.600000   \n",
       "2021-06-10 22:00:00   14.4              13.000000    0.0         3.200000   \n",
       "2021-06-10 23:00:00   18.3              12.066667    0.0         2.250000   \n",
       "2021-06-11 00:00:00   18.3              11.716667    0.0         2.316667   \n",
       "\n",
       "                     MAX Predkosc wiatru  Wilgotnosc powietrza  \\\n",
       "Data                                                             \n",
       "2019-01-01 01:00:00             4.666667             95.500000   \n",
       "2019-01-01 02:00:00             4.333333             96.666667   \n",
       "2019-01-01 03:00:00             3.500000             95.333333   \n",
       "2019-01-01 04:00:00             4.333333             94.833333   \n",
       "2019-01-01 05:00:00             4.166667             93.833333   \n",
       "...                                  ...                   ...   \n",
       "2021-06-10 20:00:00             2.966667             70.500000   \n",
       "2021-06-10 21:00:00             3.300000             79.166667   \n",
       "2021-06-10 22:00:00             3.800000             85.333333   \n",
       "2021-06-10 23:00:00             2.983333             88.833333   \n",
       "2021-06-11 00:00:00             2.916667             90.833333   \n",
       "\n",
       "                     Kierunek wiatru  \n",
       "Data                                  \n",
       "2019-01-01 01:00:00       251.666667  \n",
       "2019-01-01 02:00:00       235.666667  \n",
       "2019-01-01 03:00:00       216.166667  \n",
       "2019-01-01 04:00:00       207.333333  \n",
       "2019-01-01 05:00:00       202.833333  \n",
       "...                              ...  \n",
       "2021-06-10 20:00:00       296.166667  \n",
       "2021-06-10 21:00:00       258.333333  \n",
       "2021-06-10 22:00:00       250.666667  \n",
       "2021-06-10 23:00:00       238.333333  \n",
       "2021-06-11 00:00:00       230.833333  \n",
       "\n",
       "[17827 rows x 7 columns]"
      ]
     },
     "execution_count": 8,
     "metadata": {},
     "output_type": "execute_result"
    }
   ],
   "source": [
    "df_train"
   ]
  },
  {
   "cell_type": "code",
   "execution_count": 9,
   "id": "ae4354e4",
   "metadata": {},
   "outputs": [],
   "source": [
    "list = [i for i in data.columns if i != 'Data']\n",
    "scaler = MinMaxScaler()\n",
    "scaled_train = scaler.fit_transform(df_train[list])\n",
    "scaled_test = scaler.transform(df_test[list])\n",
    "# look_back = 3\n",
    "\n",
    "# train_generator = TimeseriesGenerator(PM25_train, PM25_train, length=look_back, batch_size=20)\n",
    "# test_generator = TimeseriesGenerator(PM25_test, PM25_test, length=look_back, batch_size=1)\n"
   ]
  },
  {
   "cell_type": "code",
   "execution_count": 22,
   "id": "75b60854",
   "metadata": {},
   "outputs": [
    {
     "data": {
      "text/plain": [
       "(17827, 7)"
      ]
     },
     "execution_count": 22,
     "metadata": {},
     "output_type": "execute_result"
    }
   ],
   "source": [
    "scaled_train.shape"
   ]
  },
  {
   "cell_type": "code",
   "execution_count": 11,
   "id": "11d1f5fe",
   "metadata": {},
   "outputs": [],
   "source": [
    "def split_sequence(sequence, look_back, forecast_horizon):\n",
    " X = []\n",
    " y = []\n",
    " for i in range(len(sequence)): \n",
    "   lag_end = i + look_back\n",
    "   forecast_end = lag_end + forecast_horizon\n",
    "   if forecast_end > len(sequence):\n",
    "     break\n",
    "   seq_x, seq_y = sequence[i:lag_end], sequence[lag_end:forecast_end]\n",
    "   X.append(seq_x)\n",
    "   y.append(seq_y)\n",
    " return np.array(X), np.array(y)"
   ]
  },
  {
   "cell_type": "code",
   "execution_count": 12,
   "id": "cd38c010",
   "metadata": {},
   "outputs": [],
   "source": [
    "def createXY(dataset,n_past):\n",
    "    dataX = []\n",
    "    dataY = []\n",
    "    for i in range(n_past, len(dataset)):\n",
    "            dataX.append(dataset[i - n_past:i, 0:dataset.shape[1]])\n",
    "            dataY.append(dataset[i,0])\n",
    "    return np.array(dataX),np.array(dataY) "
   ]
  },
  {
   "cell_type": "code",
   "execution_count": 13,
   "id": "d049efb0",
   "metadata": {
    "scrolled": true
   },
   "outputs": [
    {
     "data": {
      "text/plain": [
       "7"
      ]
     },
     "execution_count": 13,
     "metadata": {},
     "output_type": "execute_result"
    }
   ],
   "source": [
    "n_features = len(data.columns)\n",
    "n_features"
   ]
  },
  {
   "cell_type": "code",
   "execution_count": 14,
   "id": "09c1dd15",
   "metadata": {},
   "outputs": [
    {
     "data": {
      "text/plain": [
       "(4457, 7)"
      ]
     },
     "execution_count": 14,
     "metadata": {},
     "output_type": "execute_result"
    }
   ],
   "source": [
    "scaled_test.shape"
   ]
  },
  {
   "cell_type": "code",
   "execution_count": 15,
   "id": "ecb8a5b0",
   "metadata": {},
   "outputs": [
    {
     "name": "stdout",
     "output_type": "stream",
     "text": [
      "trainX Shape--  (17803, 24, 7)\n",
      "trainY Shape--  (17803,)\n",
      "testX Shape--  (4433, 24, 7)\n",
      "testY Shape--  (4433,)\n"
     ]
    }
   ],
   "source": [
    "LOOK_BACK = 24\n",
    "n_features = len(data.columns)\n",
    "trainX, trainY = createXY(scaled_train,LOOK_BACK)\n",
    "testX, testY = createXY(scaled_test,LOOK_BACK)\n",
    "print(\"trainX Shape-- \",trainX.shape)\n",
    "print(\"trainY Shape-- \",trainY.shape)\n",
    "print(\"testX Shape-- \",testX.shape)\n",
    "print(\"testY Shape-- \",testY.shape)"
   ]
  },
  {
   "cell_type": "code",
   "execution_count": 16,
   "id": "5c4ae1a3",
   "metadata": {},
   "outputs": [
    {
     "data": {
      "text/plain": [
       "0.0654403961796958"
      ]
     },
     "execution_count": 16,
     "metadata": {},
     "output_type": "execute_result"
    }
   ],
   "source": [
    "testY[0]"
   ]
  },
  {
   "cell_type": "code",
   "execution_count": 17,
   "id": "3abffb36",
   "metadata": {},
   "outputs": [
    {
     "data": {
      "text/plain": [
       "array([[0.12274496, 0.35280679, 0.        , 0.23217726, 0.1921757 ,\n",
       "        0.94726562, 0.70429104],\n",
       "       [0.09197029, 0.3426893 , 0.        , 0.21098266, 0.17844887,\n",
       "        0.9609375 , 0.65951493],\n",
       "       [0.08949416, 0.33191906, 0.        , 0.16473988, 0.14413178,\n",
       "        0.9453125 , 0.60494403],\n",
       "       [0.09975239, 0.33061358, 0.        , 0.21001927, 0.17844887,\n",
       "        0.93945312, 0.58022388],\n",
       "       [0.1131942 , 0.32343342, 0.        , 0.21483622, 0.17158545,\n",
       "        0.92773437, 0.5676306 ],\n",
       "       [0.1054121 , 0.32310705, 0.        , 0.21098266, 0.20590254,\n",
       "        0.91210938, 0.58022388],\n",
       "       [0.09727626, 0.34432115, 0.        , 0.28998073, 0.28140014,\n",
       "        0.83203125, 0.58115672],\n",
       "       [0.09090909, 0.35802872, 0.        , 0.34682081, 0.33630748,\n",
       "        0.76757812, 0.57742537],\n",
       "       [0.0732225 , 0.36422977, 0.        , 0.40462428, 0.38435141,\n",
       "        0.76953125, 0.5755597 ],\n",
       "       [0.06119561, 0.36912533, 0.        , 0.39210019, 0.38435141,\n",
       "        0.83203125, 0.58302239],\n",
       "       [0.05518217, 0.37108355, 0.        , 0.37379576, 0.37748799,\n",
       "        0.87890625, 0.58955224],\n",
       "       [0.05412098, 0.36422977, 0.        , 0.47880539, 0.47357584,\n",
       "        0.93945312, 0.56203358],\n",
       "       [0.05624337, 0.37108355, 0.00613497, 0.51252408, 0.52161977,\n",
       "        0.9140625 , 0.55690299],\n",
       "       [0.07499116, 0.37761097, 0.        , 0.49710983, 0.50102951,\n",
       "        0.85351562, 0.55597015],\n",
       "       [0.06048815, 0.37597911, 0.        , 0.44797688, 0.43925875,\n",
       "        0.91992188, 0.56856343],\n",
       "       [0.05412098, 0.36357702, 0.01840491, 0.46435453, 0.459849  ,\n",
       "        0.96289062, 0.56809701],\n",
       "       [0.06225681, 0.36977807, 0.03067485, 0.41233141, 0.40494166,\n",
       "        0.953125  , 0.57929104],\n",
       "       [0.06508666, 0.38022193, 0.00613497, 0.37861272, 0.37062457,\n",
       "        0.94726562, 0.59794776],\n",
       "       [0.05942695, 0.3828329 , 0.10429448, 0.3699422 , 0.3431709 ,\n",
       "        0.953125  , 0.58255597],\n",
       "       [0.05588964, 0.40013055, 0.00613497, 0.36030829, 0.3431709 ,\n",
       "        0.9140625 , 0.6301306 ],\n",
       "       [0.04987619, 0.39588773, 0.        , 0.32466281, 0.29512697,\n",
       "        0.88671875, 0.60121269],\n",
       "       [0.03961797, 0.38315927, 0.        , 0.23314066, 0.23335621,\n",
       "        0.9375    , 0.62360075],\n",
       "       [0.04952246, 0.39425587, 0.        , 0.31213873, 0.32258065,\n",
       "        0.90039062, 0.64039179],\n",
       "       [0.03926424, 0.37402089, 0.01840491, 0.43834297, 0.4186685 ,\n",
       "        0.89648438, 0.73134328]])"
      ]
     },
     "execution_count": 17,
     "metadata": {},
     "output_type": "execute_result"
    }
   ],
   "source": [
    "trainX[0]"
   ]
  },
  {
   "cell_type": "code",
   "execution_count": 18,
   "id": "5d81924b",
   "metadata": {},
   "outputs": [],
   "source": [
    "from keras.wrappers.scikit_learn import KerasRegressor\n",
    "from sklearn.model_selection import GridSearchCV"
   ]
  },
  {
   "cell_type": "code",
   "execution_count": 19,
   "id": "8d0083de",
   "metadata": {},
   "outputs": [],
   "source": [
    "def build_model(optimizer):\n",
    "    #pytnaie tylko czy liczbaw warst jest odpowiednia, czy funkcja aktywacji sie zgadza etc\n",
    "    grid_model = Sequential()\n",
    "    grid_model.add(LSTM(50, activation='relu', return_sequences=True,input_shape=(LOOK_BACK,n_features)))\n",
    "    grid_model.add(LSTM(50))\n",
    "    grid_model.add(Dense(1))\n",
    "\n",
    "    grid_model.compile(loss = 'mse',optimizer = optimizer)\n",
    "    return grid_model"
   ]
  },
  {
   "cell_type": "code",
   "execution_count": 23,
   "id": "c1f93710",
   "metadata": {
    "scrolled": true
   },
   "outputs": [
    {
     "name": "stderr",
     "output_type": "stream",
     "text": [
      "C:\\Users\\cezary.cwikla\\AppData\\Local\\Temp\\ipykernel_24020\\1863182732.py:1: DeprecationWarning: KerasRegressor is deprecated, use Sci-Keras (https://github.com/adriangb/scikeras) instead. See https://www.adriangb.com/scikeras/stable/migration.html for help migrating.\n",
      "  grid_model = KerasRegressor(build_fn=build_model,verbose=1,validation_data=(testX,testY))\n"
     ]
    }
   ],
   "source": [
    "grid_model = KerasRegressor(build_fn=build_model,verbose=1,validation_data=(testX,testY))\n",
    "parameters = {'batch_size' : [16,32,40], #tutaj mozna sie pobawic batch size\n",
    "              'epochs' : [8, 10], #tutaj mozna sie pobawic liczba epoch\n",
    "              'optimizer' : ['adam'] } #tutaj mozna dodac jakis optimizer, ale adam wszedzie raczej wygrywal\n",
    "\n",
    "\n",
    "grid_search  = GridSearchCV(estimator = grid_model,\n",
    "                            param_grid = parameters,\n",
    "                            cv = 2)"
   ]
  },
  {
   "cell_type": "code",
   "execution_count": null,
   "id": "10598033",
   "metadata": {},
   "outputs": [
    {
     "name": "stdout",
     "output_type": "stream",
     "text": [
      "Epoch 1/8\n",
      "557/557 [==============================] - 20s 28ms/step - loss: 0.0020 - val_loss: 9.0732e-04\n",
      "Epoch 2/8\n",
      "557/557 [==============================] - 14s 25ms/step - loss: 8.4854e-04 - val_loss: 5.2912e-04\n",
      "Epoch 3/8\n",
      "557/557 [==============================] - 14s 25ms/step - loss: 6.1159e-04 - val_loss: 5.5470e-04\n",
      "Epoch 4/8\n",
      "557/557 [==============================] - 12s 22ms/step - loss: 5.5024e-04 - val_loss: 4.3916e-04\n",
      "Epoch 5/8\n",
      "557/557 [==============================] - 13s 23ms/step - loss: 5.2384e-04 - val_loss: 4.5458e-04\n",
      "Epoch 6/8\n",
      "557/557 [==============================] - 14s 25ms/step - loss: 5.4159e-04 - val_loss: 4.6715e-04\n",
      "Epoch 7/8\n",
      "557/557 [==============================] - 15s 26ms/step - loss: 5.1092e-04 - val_loss: 4.2816e-04\n",
      "Epoch 8/8\n",
      "557/557 [==============================] - 14s 25ms/step - loss: 5.0520e-04 - val_loss: 4.3573e-04\n",
      "557/557 [==============================] - 4s 7ms/step - loss: 4.0898e-04\n",
      "Epoch 1/8\n",
      "557/557 [==============================] - 19s 27ms/step - loss: 0.0018 - val_loss: 0.0012\n",
      "Epoch 2/8\n",
      "557/557 [==============================] - 14s 25ms/step - loss: 7.6834e-04 - val_loss: 6.6182e-04\n",
      "Epoch 3/8\n",
      "557/557 [==============================] - 14s 25ms/step - loss: 5.9517e-04 - val_loss: 5.4614e-04\n",
      "Epoch 4/8\n",
      "557/557 [==============================] - 13s 23ms/step - loss: 4.9223e-04 - val_loss: 4.5723e-04\n",
      "Epoch 5/8\n",
      "557/557 [==============================] - 14s 25ms/step - loss: 4.5098e-04 - val_loss: 4.3031e-04\n",
      "Epoch 6/8\n",
      "557/557 [==============================] - 14s 26ms/step - loss: 4.2416e-04 - val_loss: 4.1917e-04\n",
      "Epoch 7/8\n",
      "557/557 [==============================] - 14s 26ms/step - loss: 4.1943e-04 - val_loss: 4.2593e-04\n",
      "Epoch 8/8\n",
      "557/557 [==============================] - 14s 25ms/step - loss: 4.1431e-04 - val_loss: 4.4119e-04\n",
      "557/557 [==============================] - 3s 5ms/step - loss: 5.2351e-04\n",
      "Epoch 1/10\n",
      "557/557 [==============================] - 20s 27ms/step - loss: 0.0022 - val_loss: 0.0011\n",
      "Epoch 2/10\n",
      "557/557 [==============================] - 14s 26ms/step - loss: 8.2719e-04 - val_loss: 5.2776e-04\n",
      "Epoch 3/10\n",
      "557/557 [==============================] - 15s 26ms/step - loss: 6.1417e-04 - val_loss: 6.0228e-04\n",
      "Epoch 4/10\n",
      "557/557 [==============================] - 14s 24ms/step - loss: 5.5802e-04 - val_loss: 4.7586e-04\n",
      "Epoch 5/10\n",
      "557/557 [==============================] - 14s 24ms/step - loss: 5.2236e-04 - val_loss: 5.1455e-04\n",
      "Epoch 6/10\n",
      "557/557 [==============================] - 13s 24ms/step - loss: 5.0390e-04 - val_loss: 4.5668e-04\n",
      "Epoch 7/10\n",
      "557/557 [==============================] - 14s 25ms/step - loss: 5.1315e-04 - val_loss: 4.5645e-04\n",
      "Epoch 8/10\n",
      "557/557 [==============================] - 14s 25ms/step - loss: 5.0602e-04 - val_loss: 4.5560e-04\n",
      "Epoch 9/10\n",
      "557/557 [==============================] - 13s 24ms/step - loss: 4.9250e-04 - val_loss: 4.0942e-04\n",
      "Epoch 10/10\n",
      "557/557 [==============================] - 12s 22ms/step - loss: 5.0096e-04 - val_loss: 4.7332e-04\n",
      "557/557 [==============================] - 4s 7ms/step - loss: 4.2338e-04\n",
      "Epoch 1/10\n",
      "557/557 [==============================] - 20s 27ms/step - loss: 0.0025 - val_loss: 0.0014\n",
      "Epoch 2/10\n",
      "557/557 [==============================] - 14s 26ms/step - loss: 9.3284e-04 - val_loss: 7.6069e-04\n",
      "Epoch 3/10\n",
      "557/557 [==============================] - 14s 26ms/step - loss: 7.1103e-04 - val_loss: 8.0638e-04\n",
      "Epoch 4/10\n",
      "557/557 [==============================] - 12s 22ms/step - loss: 5.5273e-04 - val_loss: 7.0269e-04\n",
      "Epoch 5/10\n",
      "557/557 [==============================] - 14s 24ms/step - loss: 4.6411e-04 - val_loss: 4.9008e-04\n",
      "Epoch 6/10\n",
      "557/557 [==============================] - 14s 25ms/step - loss: 4.3288e-04 - val_loss: 4.3093e-04\n",
      "Epoch 7/10\n",
      "557/557 [==============================] - 14s 25ms/step - loss: 4.2576e-04 - val_loss: 4.3108e-04\n",
      "Epoch 8/10\n",
      "557/557 [==============================] - 14s 25ms/step - loss: 4.1874e-04 - val_loss: 6.8818e-04\n",
      "Epoch 9/10\n",
      "557/557 [==============================] - 14s 25ms/step - loss: 4.1057e-04 - val_loss: 4.0825e-04\n",
      "Epoch 10/10\n",
      "557/557 [==============================] - 12s 22ms/step - loss: 4.0244e-04 - val_loss: 4.9157e-04\n",
      "557/557 [==============================] - 4s 6ms/step - loss: 5.5958e-04\n",
      "Epoch 1/8\n",
      "279/279 [==============================] - 14s 32ms/step - loss: 0.0024 - val_loss: 0.0013\n",
      "Epoch 2/8\n",
      "279/279 [==============================] - 8s 30ms/step - loss: 0.0011 - val_loss: 7.4765e-04\n",
      "Epoch 3/8\n",
      "279/279 [==============================] - 9s 31ms/step - loss: 7.5862e-04 - val_loss: 5.1197e-04\n",
      "Epoch 4/8\n",
      "279/279 [==============================] - 8s 29ms/step - loss: 6.1396e-04 - val_loss: 7.5612e-04\n",
      "Epoch 5/8\n",
      "279/279 [==============================] - 8s 29ms/step - loss: 5.4983e-04 - val_loss: 4.3298e-04\n",
      "Epoch 6/8\n",
      "279/279 [==============================] - 8s 30ms/step - loss: 5.1705e-04 - val_loss: 5.1261e-04\n",
      "Epoch 7/8\n",
      "279/279 [==============================] - 8s 29ms/step - loss: 5.2161e-04 - val_loss: 4.6347e-04\n",
      "Epoch 8/8\n",
      "279/279 [==============================] - 8s 29ms/step - loss: 4.8750e-04 - val_loss: 4.3918e-04\n",
      "279/279 [==============================] - 3s 11ms/step - loss: 4.2426e-04\n",
      "Epoch 1/8\n",
      "279/279 [==============================] - 15s 33ms/step - loss: 0.0024 - val_loss: 0.0014\n",
      "Epoch 2/8\n",
      "279/279 [==============================] - 9s 33ms/step - loss: 0.0010 - val_loss: 0.0012\n",
      "Epoch 3/8\n",
      "279/279 [==============================] - 8s 30ms/step - loss: 6.9842e-04 - val_loss: 6.3792e-04\n",
      "Epoch 4/8\n",
      "279/279 [==============================] - 8s 28ms/step - loss: 5.3489e-04 - val_loss: 5.8825e-04\n",
      "Epoch 5/8\n",
      "279/279 [==============================] - 8s 27ms/step - loss: 4.5749e-04 - val_loss: 5.2426e-04\n",
      "Epoch 6/8\n",
      "279/279 [==============================] - 7s 27ms/step - loss: 4.4829e-04 - val_loss: 5.1664e-04\n",
      "Epoch 7/8\n",
      "279/279 [==============================] - 7s 27ms/step - loss: 4.1781e-04 - val_loss: 5.7603e-04\n",
      "Epoch 8/8\n",
      "279/279 [==============================] - 7s 26ms/step - loss: 4.0501e-04 - val_loss: 4.6386e-04\n",
      "279/279 [==============================] - 2s 8ms/step - loss: 5.5766e-04\n",
      "Epoch 1/10\n",
      "279/279 [==============================] - 13s 32ms/step - loss: 0.0022 - val_loss: 0.0012\n",
      "Epoch 2/10\n",
      "279/279 [==============================] - 8s 27ms/step - loss: 0.0010 - val_loss: 0.0013\n",
      "Epoch 3/10\n",
      "279/279 [==============================] - 8s 29ms/step - loss: 7.4674e-04 - val_loss: 7.5587e-04\n",
      "Epoch 4/10\n",
      "279/279 [==============================] - 8s 29ms/step - loss: 6.0085e-04 - val_loss: 0.0012\n",
      "Epoch 5/10\n",
      "279/279 [==============================] - 7s 27ms/step - loss: 5.8275e-04 - val_loss: 4.1558e-04\n",
      "Epoch 6/10\n",
      "279/279 [==============================] - 8s 27ms/step - loss: 5.3107e-04 - val_loss: 4.0699e-04\n",
      "Epoch 7/10\n",
      "279/279 [==============================] - 8s 27ms/step - loss: 5.2430e-04 - val_loss: 4.0349e-04\n",
      "Epoch 8/10\n",
      "279/279 [==============================] - 7s 27ms/step - loss: 4.9149e-04 - val_loss: 4.0063e-04\n",
      "Epoch 9/10\n",
      "279/279 [==============================] - 8s 27ms/step - loss: 4.8944e-04 - val_loss: 4.0017e-04\n",
      "Epoch 10/10\n",
      "279/279 [==============================] - 8s 27ms/step - loss: 4.8003e-04 - val_loss: 3.8682e-04\n",
      "279/279 [==============================] - 2s 8ms/step - loss: 3.5572e-04\n",
      "Epoch 1/10\n",
      "279/279 [==============================] - 13s 30ms/step - loss: 0.0026 - val_loss: 0.0018\n",
      "Epoch 2/10\n",
      "279/279 [==============================] - 8s 27ms/step - loss: 0.0010 - val_loss: 8.1685e-04\n",
      "Epoch 3/10\n",
      "279/279 [==============================] - 8s 27ms/step - loss: 7.0255e-04 - val_loss: 6.3781e-04\n",
      "Epoch 4/10\n",
      "279/279 [==============================] - 8s 27ms/step - loss: 5.4309e-04 - val_loss: 5.6645e-04\n",
      "Epoch 5/10\n",
      "279/279 [==============================] - 7s 27ms/step - loss: 4.8832e-04 - val_loss: 4.6391e-04\n",
      "Epoch 6/10\n",
      "279/279 [==============================] - 8s 27ms/step - loss: 4.3283e-04 - val_loss: 6.0728e-04\n",
      "Epoch 7/10\n",
      "279/279 [==============================] - 7s 26ms/step - loss: 4.2228e-04 - val_loss: 4.4030e-04\n",
      "Epoch 8/10\n",
      "279/279 [==============================] - 8s 27ms/step - loss: 4.1498e-04 - val_loss: 4.9631e-04\n",
      "Epoch 9/10\n",
      "279/279 [==============================] - 8s 27ms/step - loss: 4.0317e-04 - val_loss: 4.1646e-04\n",
      "Epoch 10/10\n"
     ]
    },
    {
     "name": "stdout",
     "output_type": "stream",
     "text": [
      "279/279 [==============================] - 7s 27ms/step - loss: 3.8029e-04 - val_loss: 4.3154e-04\n",
      "279/279 [==============================] - 2s 8ms/step - loss: 4.9129e-04\n",
      "Epoch 1/8\n",
      "223/223 [==============================] - 12s 32ms/step - loss: 0.0024 - val_loss: 0.0014\n",
      "Epoch 2/8\n",
      "223/223 [==============================] - 6s 28ms/step - loss: 0.0012 - val_loss: 8.3424e-04\n",
      "Epoch 3/8\n",
      "223/223 [==============================] - 5s 24ms/step - loss: 7.4733e-04 - val_loss: 5.8349e-04\n",
      "Epoch 4/8\n",
      "223/223 [==============================] - 5s 23ms/step - loss: 5.8801e-04 - val_loss: 4.4408e-04\n",
      "Epoch 5/8\n",
      "223/223 [==============================] - 6s 26ms/step - loss: 6.1808e-04 - val_loss: 4.1357e-04\n",
      "Epoch 6/8\n",
      "223/223 [==============================] - 8s 35ms/step - loss: 5.0725e-04 - val_loss: 4.0185e-04\n",
      "Epoch 7/8\n",
      "223/223 [==============================] - 5s 23ms/step - loss: 5.2264e-04 - val_loss: 4.1758e-04\n",
      "Epoch 8/8\n",
      "223/223 [==============================] - 5s 22ms/step - loss: 5.0835e-04 - val_loss: 4.7853e-04\n",
      "223/223 [==============================] - 2s 7ms/step - loss: 4.5121e-04\n",
      "Epoch 1/8\n",
      "223/223 [==============================] - 9s 27ms/step - loss: 0.0023 - val_loss: 0.0014\n",
      "Epoch 2/8\n",
      "223/223 [==============================] - 5s 24ms/step - loss: 0.0010 - val_loss: 9.0008e-04\n",
      "Epoch 3/8\n",
      "223/223 [==============================] - 7s 29ms/step - loss: 7.1841e-04 - val_loss: 6.9012e-04\n",
      "Epoch 4/8\n",
      "223/223 [==============================] - 6s 25ms/step - loss: 5.8385e-04 - val_loss: 9.0610e-04\n",
      "Epoch 5/8\n",
      "223/223 [==============================] - 5s 23ms/step - loss: 5.0267e-04 - val_loss: 6.8658e-04\n",
      "Epoch 6/8\n",
      "223/223 [==============================] - 5s 24ms/step - loss: 4.6007e-04 - val_loss: 5.5193e-04\n",
      "Epoch 7/8\n",
      "223/223 [==============================] - 5s 23ms/step - loss: 4.2941e-04 - val_loss: 4.6886e-04\n",
      "Epoch 8/8\n",
      "223/223 [==============================] - 5s 21ms/step - loss: 4.1302e-04 - val_loss: 4.6753e-04\n",
      "223/223 [==============================] - 1s 6ms/step - loss: 5.3959e-04\n",
      "Epoch 1/10\n",
      "223/223 [==============================] - 8s 23ms/step - loss: 0.0030 - val_loss: 0.0018\n",
      "Epoch 2/10\n",
      "223/223 [==============================] - 5s 21ms/step - loss: 0.0014 - val_loss: 9.2159e-04\n",
      "Epoch 3/10\n",
      "223/223 [==============================] - 5s 22ms/step - loss: 9.8091e-04 - val_loss: 8.0505e-04\n",
      "Epoch 4/10\n",
      "223/223 [==============================] - 5s 22ms/step - loss: 7.5879e-04 - val_loss: 5.3820e-04\n",
      "Epoch 5/10\n",
      "223/223 [==============================] - 5s 22ms/step - loss: 6.7434e-04 - val_loss: 5.5703e-04\n",
      "Epoch 6/10\n",
      "223/223 [==============================] - 5s 22ms/step - loss: 5.9502e-04 - val_loss: 5.8043e-04\n",
      "Epoch 7/10\n",
      "223/223 [==============================] - 5s 21ms/step - loss: 5.4940e-04 - val_loss: 4.4738e-04\n",
      "Epoch 8/10\n",
      "223/223 [==============================] - 5s 21ms/step - loss: 5.2901e-04 - val_loss: 4.5510e-04\n",
      "Epoch 9/10\n",
      "223/223 [==============================] - 5s 22ms/step - loss: 5.2768e-04 - val_loss: 4.5235e-04\n",
      "Epoch 10/10\n",
      "223/223 [==============================] - 5s 22ms/step - loss: 5.1319e-04 - val_loss: 4.3573e-04\n",
      "223/223 [==============================] - 2s 7ms/step - loss: 3.8054e-04\n",
      "Epoch 1/10\n",
      "223/223 [==============================] - 10s 23ms/step - loss: 0.0025 - val_loss: 0.0020\n",
      "Epoch 2/10\n",
      "223/223 [==============================] - 5s 21ms/step - loss: 0.0011 - val_loss: 0.0015\n",
      "Epoch 3/10\n",
      "223/223 [==============================] - 5s 21ms/step - loss: 8.0654e-04 - val_loss: 7.7879e-04\n",
      "Epoch 4/10\n",
      "223/223 [==============================] - 5s 21ms/step - loss: 6.5375e-04 - val_loss: 7.2521e-04\n",
      "Epoch 5/10\n",
      "111/223 [=============>................] - ETA: 2s - loss: 6.0307e-04"
     ]
    }
   ],
   "source": [
    "grid_search = grid_search.fit(trainX,trainY)\n"
   ]
  },
  {
   "cell_type": "code",
   "execution_count": null,
   "id": "b19494c4",
   "metadata": {},
   "outputs": [],
   "source": [
    "grid_search.best_params_\n"
   ]
  },
  {
   "cell_type": "code",
   "execution_count": null,
   "id": "a5731ba3",
   "metadata": {},
   "outputs": [],
   "source": [
    "my_model=grid_search.best_estimator_.model\n"
   ]
  },
  {
   "cell_type": "code",
   "execution_count": null,
   "id": "9de7a098",
   "metadata": {},
   "outputs": [],
   "source": [
    "prediction=my_model.predict(testX)\n",
    "prediction_copies_array = np.repeat(prediction,n_features, axis=-1)\n"
   ]
  },
  {
   "cell_type": "code",
   "execution_count": null,
   "id": "f4cf943e",
   "metadata": {
    "scrolled": true
   },
   "outputs": [],
   "source": [
    "print(\"prediction\\n\", prediction)\n",
    "print(\"\\nPrediction Shape-\",prediction.shape)"
   ]
  },
  {
   "cell_type": "code",
   "execution_count": null,
   "id": "ccc3bddb",
   "metadata": {
    "scrolled": true
   },
   "outputs": [],
   "source": [
    "pred=scaler.inverse_transform(np.reshape(prediction_copies_array,(len(prediction),n_features)))[:,0]\n"
   ]
  },
  {
   "cell_type": "code",
   "execution_count": null,
   "id": "d3b1dac4",
   "metadata": {},
   "outputs": [],
   "source": [
    "original_copies_array = np.repeat(testY,n_features, axis=-1)\n",
    "\n",
    "original_copies_array.shape\n",
    "\n",
    "original=scaler.inverse_transform(np.reshape(original_copies_array,(len(testY),n_features)))[:,0]"
   ]
  },
  {
   "cell_type": "code",
   "execution_count": null,
   "id": "66983ba6",
   "metadata": {},
   "outputs": [],
   "source": [
    "from matplotlib import pyplot as plt\n"
   ]
  },
  {
   "cell_type": "code",
   "execution_count": null,
   "id": "0aece596",
   "metadata": {},
   "outputs": [],
   "source": [
    "plt.plot(original, color = 'red', label = 'Real  Stock Price')\n",
    "plt.plot(pred, color = 'blue', label = 'Predicted  Stock Price')\n",
    "plt.title(' Stock Price Prediction')\n",
    "plt.xlabel('Time')\n",
    "plt.ylabel(' Stock Price')\n",
    "plt.legend()\n",
    "plt.show()"
   ]
  },
  {
   "cell_type": "code",
   "execution_count": null,
   "id": "e52a5d0f",
   "metadata": {
    "scrolled": true
   },
   "outputs": [],
   "source": [
    "#old -- do wywalenia raczej\n",
    "# model = Sequential()\n",
    "# model.add(LSTM(15,  activation='relu', input_shape=(LOOK_BACK, n_features)))\n",
    "# model.add(Dense(1))\n",
    "# model.compile(optimizer='adam', loss='mse')\n",
    "\n",
    "# num_epochs = 25\n",
    "# model.fit(epochs=num_epochs, verbose=1)\n"
   ]
  },
  {
   "cell_type": "code",
   "execution_count": null,
   "id": "d2fe85e9",
   "metadata": {
    "scrolled": false
   },
   "outputs": [],
   "source": [
    "# prediction = model.predict(test_generator)\n",
    "\n",
    "# PM25_train = PM25_train.reshape((-1))\n",
    "# PM25_test = PM25_test.reshape((-1))\n",
    "# prediction = prediction.reshape((-1))\n"
   ]
  },
  {
   "cell_type": "code",
   "execution_count": null,
   "id": "1962ae6a",
   "metadata": {},
   "outputs": [],
   "source": [
    "prediction.shape"
   ]
  },
  {
   "cell_type": "code",
   "execution_count": null,
   "id": "ab350bc7",
   "metadata": {},
   "outputs": [],
   "source": [
    "testY.shape"
   ]
  },
  {
   "cell_type": "code",
   "execution_count": null,
   "id": "a56d81c3",
   "metadata": {
    "scrolled": false
   },
   "outputs": [],
   "source": [
    "testScore = math.sqrt(mean_squared_error(original, pred))\n",
    "print('Test Score: %.2f RMSE' % (testScore))"
   ]
  },
  {
   "cell_type": "code",
   "execution_count": null,
   "id": "5bb80288",
   "metadata": {},
   "outputs": [],
   "source": [
    "with open(\"metrics.txt\", 'w') as outfile:\n",
    "        outfile.write('Test Score: %.2f RMSE' % (testScore))"
   ]
  },
  {
   "cell_type": "code",
   "execution_count": null,
   "id": "88f11b1c",
   "metadata": {},
   "outputs": [],
   "source": [
    "pred"
   ]
  },
  {
   "cell_type": "code",
   "execution_count": null,
   "id": "626dac05",
   "metadata": {},
   "outputs": [],
   "source": [
    "original"
   ]
  },
  {
   "cell_type": "code",
   "execution_count": null,
   "id": "f2c8eff2",
   "metadata": {
    "scrolled": true
   },
   "outputs": [],
   "source": [
    "len(testX)"
   ]
  },
  {
   "cell_type": "code",
   "execution_count": null,
   "id": "0717968a",
   "metadata": {
    "scrolled": false
   },
   "outputs": [],
   "source": [
    "testX.shape"
   ]
  },
  {
   "cell_type": "code",
   "execution_count": null,
   "id": "edfc270d",
   "metadata": {
    "scrolled": true
   },
   "outputs": [],
   "source": [
    "data"
   ]
  },
  {
   "cell_type": "code",
   "execution_count": null,
   "id": "5d23d66e",
   "metadata": {},
   "outputs": [],
   "source": [
    "close_data = data.values"
   ]
  },
  {
   "cell_type": "code",
   "execution_count": null,
   "id": "4c8055fc",
   "metadata": {
    "scrolled": false
   },
   "outputs": [],
   "source": [
    "close_data"
   ]
  },
  {
   "cell_type": "code",
   "execution_count": null,
   "id": "3eb3c7e2",
   "metadata": {},
   "outputs": [],
   "source": [
    "df_test = df_test.reset_index()"
   ]
  },
  {
   "cell_type": "code",
   "execution_count": null,
   "id": "3cb6934f",
   "metadata": {},
   "outputs": [],
   "source": [
    "df_test"
   ]
  },
  {
   "cell_type": "code",
   "execution_count": null,
   "id": "cda2221c",
   "metadata": {},
   "outputs": [],
   "source": []
  },
  {
   "cell_type": "code",
   "execution_count": null,
   "id": "2114a1c8",
   "metadata": {},
   "outputs": [],
   "source": [
    "trace1 = go.Scatter(\n",
    "    y = trainY,\n",
    "    mode = 'lines',\n",
    "    name = 'Dane'\n",
    ")\n",
    "trace2 = go.Scatter(\n",
    "    y = pred,\n",
    "    x = df_test['Data'],\n",
    "    mode = 'lines',\n",
    "    name = 'Predykcja'\n",
    ")\n",
    "trace3 = go.Scatter(\n",
    "    y = original,\n",
    "    x = df_test['Data'],\n",
    "    mode='lines',\n",
    "    name = 'Rzeczywistość'\n",
    ")\n",
    "layout = go.Layout(\n",
    "    title = \"Predykcja PM2.5\",\n",
    "    xaxis = {'title' : \"Data\"},\n",
    "    yaxis = {'title' : \"PM2.5[ug/m3]\"}\n",
    ")\n",
    "fig = go.Figure(data=[ trace2, trace3], layout=layout)\n",
    "fig.show()"
   ]
  },
  {
   "cell_type": "code",
   "execution_count": null,
   "id": "3672a357",
   "metadata": {},
   "outputs": [],
   "source": [
    "#tutaj trzeba zrozumiec algorytm, przerobić go na wielowariantowy i bedzie git\n",
    "\n",
    "# close_data = close_data.reshape((-1))\n",
    "\n",
    "# def predict(num_prediction, model):\n",
    "#     prediction_list = close_data[-look_back:]\n",
    "    \n",
    "#     for _ in range(num_prediction):\n",
    "#         x = prediction_list[-look_back:]\n",
    "#         x = x.reshape((1, look_back, 1))\n",
    "#         out = model.predict(x)[0][0]\n",
    "#         prediction_list = np.append(prediction_list, out)\n",
    "#     prediction_list = prediction_list[look_back-1:]\n",
    "        \n",
    "#     return prediction_list\n",
    "    \n",
    "# def predict_dates(num_prediction):\n",
    "#     last_date = df['Date'].values[-1]\n",
    "#     prediction_dates = pd.date_range(last_date, periods=num_prediction+1).tolist()\n",
    "#     return prediction_dates\n",
    "\n",
    "# num_prediction = 30\n",
    "# forecast = predict(num_prediction, model)\n",
    "# forecast_dates = predict_dates(num_prediction)"
   ]
  }
 ],
 "metadata": {
  "kernelspec": {
   "display_name": "Python 3 (ipykernel)",
   "language": "python",
   "name": "python3"
  },
  "language_info": {
   "codemirror_mode": {
    "name": "ipython",
    "version": 3
   },
   "file_extension": ".py",
   "mimetype": "text/x-python",
   "name": "python",
   "nbconvert_exporter": "python",
   "pygments_lexer": "ipython3",
   "version": "3.10.4"
  }
 },
 "nbformat": 4,
 "nbformat_minor": 5
}
