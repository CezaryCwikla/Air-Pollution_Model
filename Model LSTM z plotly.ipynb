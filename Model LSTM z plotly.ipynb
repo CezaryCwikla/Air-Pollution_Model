{
 "cells": [
  {
   "cell_type": "code",
   "execution_count": 1,
   "id": "0acffdc9",
   "metadata": {},
   "outputs": [],
   "source": [
    "import pandas as pd\n",
    "import numpy as np\n",
    "import math\n",
    "import keras\n",
    "import tensorflow as tf\n",
    "import plotly.graph_objects as go\n",
    "\n",
    "from sklearn.metrics import mean_squared_error\n",
    "from keras.preprocessing.sequence import TimeseriesGenerator\n",
    "from keras.models import Sequential\n",
    "from keras.layers import LSTM, Dense\n"
   ]
  },
  {
   "cell_type": "code",
   "execution_count": 2,
   "id": "b2de3841",
   "metadata": {},
   "outputs": [],
   "source": [
    "data = pd.read_csv('Data/Powietrze_2019-2022_Pilsudzkiego.csv', sep=';', parse_dates=['Data'])\n",
    "\n",
    "data.rename(columns = {'(pył zawieszony PM2.5 [jednostka ug/m3])':'PM2.5'\n",
    "                    , '(pył zawieszony PM10 [jednostka ug/m3])':'PM10'\n",
    "                    , '(tlenek azotu [jednostka ug/m3])':'NO'\n",
    "                    , '(tlenki azotu [jednostka ug/m3])':'NOs'\n",
    "                    , '(tlenek węgla [jednostka ug/m3])':'CO'\n",
    "                    , '(benzen [jednostka ug/m3])':'benzen'\n",
    "                    , '(dwutlenek azotu [jednostka ug/m3])':'NO2'\n",
    "                    }, inplace = True)\n",
    "\n",
    "data.dropna(inplace=True)\n",
    "data_df = data\n",
    "# data_df = data_df.reset_index()\n",
    "# data_df = data_df.drop('index', axis=1)\n",
    "# data_df.index = data_df['Data']\n",
    "# data_df = data_df.drop('Data', axis=1)\n",
    "\n",
    "data['Data'] = pd.to_datetime(data['Data'])\n",
    "data = data.sort_values(by=\"Data\")\n",
    "\n",
    "data.set_axis(data['Data'], inplace=True)\n",
    "data.drop(columns=['CO', 'benzen', 'NO2', 'NO', 'NOs'], inplace=True)\n"
   ]
  },
  {
   "cell_type": "code",
   "execution_count": 3,
   "id": "7d35cddd",
   "metadata": {},
   "outputs": [],
   "source": [
    "PM25_data = data['PM2.5'].values\n",
    "PM25_data = PM25_data.reshape((-1, 1))\n",
    "\n",
    "PM10_data = data['PM10'].values\n",
    "PM10_data = PM10_data.reshape((-1, 1))\n",
    "\n",
    "split_percent = 0.80\n",
    "split = int(split_percent*len(PM25_data))\n",
    "\n",
    "PM25_train = PM25_data[:split]\n",
    "PM25_test = PM25_data[split:]\n",
    "\n",
    "PM10_train = PM10_data[:split]\n",
    "PM10_test = PM10_data[split:]\n",
    "\n",
    "date_train = data['Data'][:split]\n",
    "date_test = data['Data'][split:]\n",
    "\n",
    "look_back = 3\n",
    "\n",
    "train_generator = TimeseriesGenerator(PM25_train, PM25_train, length=look_back, batch_size=20)\n",
    "test_generator = TimeseriesGenerator(PM25_test, PM25_test, length=look_back, batch_size=1)\n"
   ]
  },
  {
   "cell_type": "code",
   "execution_count": 4,
   "id": "1f045df8",
   "metadata": {
    "scrolled": true
   },
   "outputs": [
    {
     "name": "stderr",
     "output_type": "stream",
     "text": [
      "C:\\Users\\Admin\\AppData\\Local\\Temp\\ipykernel_24792\\529090647.py:7: UserWarning: `Model.fit_generator` is deprecated and will be removed in a future version. Please use `Model.fit`, which supports generators.\n",
      "  model.fit_generator(train_generator, epochs=num_epochs, verbose=1)\n"
     ]
    },
    {
     "name": "stdout",
     "output_type": "stream",
     "text": [
      "Epoch 1/25\n",
      "971/971 [==============================] - 5s 3ms/step - loss: 762.4207\n",
      "Epoch 2/25\n",
      "971/971 [==============================] - 3s 3ms/step - loss: 604.9574\n",
      "Epoch 3/25\n",
      "971/971 [==============================] - 3s 3ms/step - loss: 521.7661\n",
      "Epoch 4/25\n",
      "971/971 [==============================] - 3s 3ms/step - loss: 460.5141\n",
      "Epoch 5/25\n",
      "971/971 [==============================] - 3s 3ms/step - loss: 412.7609\n",
      "Epoch 6/25\n",
      "971/971 [==============================] - 3s 3ms/step - loss: 373.5909\n",
      "Epoch 7/25\n",
      "971/971 [==============================] - 3s 3ms/step - loss: 341.7928\n",
      "Epoch 8/25\n",
      "971/971 [==============================] - 3s 3ms/step - loss: 314.9293\n",
      "Epoch 9/25\n",
      "971/971 [==============================] - 3s 3ms/step - loss: 292.1417\n",
      "Epoch 10/25\n",
      "971/971 [==============================] - 3s 3ms/step - loss: 272.7099\n",
      "Epoch 11/25\n",
      "971/971 [==============================] - 4s 4ms/step - loss: 255.4006\n",
      "Epoch 12/25\n",
      "971/971 [==============================] - 3s 3ms/step - loss: 240.3092\n",
      "Epoch 13/25\n",
      "971/971 [==============================] - 4s 4ms/step - loss: 227.3766\n",
      "Epoch 14/25\n",
      "971/971 [==============================] - 5s 5ms/step - loss: 215.8049\n",
      "Epoch 15/25\n",
      "971/971 [==============================] - 4s 5ms/step - loss: 205.3599\n",
      "Epoch 16/25\n",
      "971/971 [==============================] - 4s 4ms/step - loss: 195.7516\n",
      "Epoch 17/25\n",
      "971/971 [==============================] - 4s 4ms/step - loss: 186.9529\n",
      "Epoch 18/25\n",
      "971/971 [==============================] - 3s 3ms/step - loss: 179.2143\n",
      "Epoch 19/25\n",
      "971/971 [==============================] - 4s 4ms/step - loss: 171.9704\n",
      "Epoch 20/25\n",
      "971/971 [==============================] - 3s 3ms/step - loss: 165.4784\n",
      "Epoch 21/25\n",
      "971/971 [==============================] - 3s 3ms/step - loss: 159.7007\n",
      "Epoch 22/25\n",
      "971/971 [==============================] - 2s 2ms/step - loss: 154.3227\n",
      "Epoch 23/25\n",
      "971/971 [==============================] - 2s 2ms/step - loss: 149.1592\n",
      "Epoch 24/25\n",
      "971/971 [==============================] - 3s 3ms/step - loss: 144.3807\n",
      "Epoch 25/25\n",
      "971/971 [==============================] - 4s 5ms/step - loss: 139.8927\n"
     ]
    },
    {
     "data": {
      "text/plain": [
       "<keras.callbacks.History at 0x17eb22735b0>"
      ]
     },
     "execution_count": 4,
     "metadata": {},
     "output_type": "execute_result"
    }
   ],
   "source": [
    "model = Sequential()\n",
    "model.add(LSTM(4,input_shape=(look_back, 1)))\n",
    "model.add(Dense(1))\n",
    "model.compile(optimizer='adam', loss='mse')\n",
    "\n",
    "num_epochs = 25\n",
    "model.fit_generator(train_generator, epochs=num_epochs, verbose=1)\n"
   ]
  },
  {
   "cell_type": "code",
   "execution_count": 5,
   "id": "40f325dc",
   "metadata": {
    "scrolled": true
   },
   "outputs": [
    {
     "name": "stderr",
     "output_type": "stream",
     "text": [
      "C:\\Users\\Admin\\AppData\\Local\\Temp\\ipykernel_24792\\3559148028.py:1: UserWarning: `Model.predict_generator` is deprecated and will be removed in a future version. Please use `Model.predict`, which supports generators.\n",
      "  prediction = model.predict_generator(test_generator)\n"
     ]
    },
    {
     "ename": "IndexError",
     "evalue": "too many indices for array: array is 1-dimensional, but 2 were indexed",
     "output_type": "error",
     "traceback": [
      "\u001b[1;31m-------------------------------------------------------------------\u001b[0m",
      "\u001b[1;31mIndexError\u001b[0m                        Traceback (most recent call last)",
      "Input \u001b[1;32mIn [5]\u001b[0m, in \u001b[0;36m<cell line: 7>\u001b[1;34m()\u001b[0m\n\u001b[0;32m      4\u001b[0m PM25_test \u001b[38;5;241m=\u001b[39m PM25_test\u001b[38;5;241m.\u001b[39mreshape((\u001b[38;5;241m-\u001b[39m\u001b[38;5;241m1\u001b[39m))\n\u001b[0;32m      5\u001b[0m prediction \u001b[38;5;241m=\u001b[39m prediction\u001b[38;5;241m.\u001b[39mreshape((\u001b[38;5;241m-\u001b[39m\u001b[38;5;241m1\u001b[39m))\n\u001b[1;32m----> 7\u001b[0m testScore \u001b[38;5;241m=\u001b[39m math\u001b[38;5;241m.\u001b[39msqrt(mean_squared_error(PM25_test, \u001b[43mprediction\u001b[49m\u001b[43m[\u001b[49m\u001b[43m:\u001b[49m\u001b[43m,\u001b[49m\u001b[43m \u001b[49m\u001b[38;5;241;43m0\u001b[39;49m\u001b[43m]\u001b[49m))\n\u001b[0;32m      8\u001b[0m \u001b[38;5;28mprint\u001b[39m(\u001b[38;5;124m'\u001b[39m\u001b[38;5;124mTest Score: \u001b[39m\u001b[38;5;132;01m%.2f\u001b[39;00m\u001b[38;5;124m RMSE\u001b[39m\u001b[38;5;124m'\u001b[39m \u001b[38;5;241m%\u001b[39m (testScore))\n",
      "\u001b[1;31mIndexError\u001b[0m: too many indices for array: array is 1-dimensional, but 2 were indexed"
     ]
    }
   ],
   "source": [
    "prediction = model.predict_generator(test_generator)\n",
    "\n",
    "PM25_train = PM25_train.reshape((-1))\n",
    "PM25_test = PM25_test.reshape((-1))\n",
    "prediction = prediction.reshape((-1))\n"
   ]
  },
  {
   "cell_type": "code",
   "execution_count": 8,
   "id": "62f80f09",
   "metadata": {},
   "outputs": [
    {
     "data": {
      "text/plain": [
       "<function ndarray.view>"
      ]
     },
     "execution_count": 8,
     "metadata": {},
     "output_type": "execute_result"
    }
   ],
   "source": [
    "prediction.view()"
   ]
  },
  {
   "cell_type": "code",
   "execution_count": null,
   "id": "f2055695",
   "metadata": {},
   "outputs": [],
   "source": [
    "testScore = math.sqrt(mean_squared_error(PM25_test, prediction[:, 0]))\n",
    "print('Test Score: %.2f RMSE' % (testScore))"
   ]
  },
  {
   "cell_type": "code",
   "execution_count": null,
   "id": "513a7053",
   "metadata": {},
   "outputs": [],
   "source": [
    "trace1 = go.Scatter(\n",
    "    x = date_train,\n",
    "    y = PM25_train,\n",
    "    mode = 'lines',\n",
    "    name = 'Data'\n",
    ")\n",
    "trace2 = go.Scatter(\n",
    "    x = date_test,\n",
    "    y = prediction,\n",
    "    mode = 'lines',\n",
    "    name = 'Prediction'\n",
    ")\n",
    "trace3 = go.Scatter(\n",
    "    x = date_test,\n",
    "    y = PM25_test,\n",
    "    mode='lines',\n",
    "    name = 'Ground Truth'\n",
    ")\n",
    "layout = go.Layout(\n",
    "    title = \"Google Stock\",\n",
    "    xaxis = {'title' : \"Date\"},\n",
    "    yaxis = {'title' : \"Close\"}\n",
    ")\n",
    "fig = go.Figure(data=[trace1, trace2, trace3], layout=layout)\n",
    "fig.show()"
   ]
  },
  {
   "cell_type": "code",
   "execution_count": null,
   "id": "c457e8c3",
   "metadata": {},
   "outputs": [],
   "source": [
    "print(data)"
   ]
  }
 ],
 "metadata": {
  "kernelspec": {
   "display_name": "Python 3 (ipykernel)",
   "language": "python",
   "name": "python3"
  },
  "language_info": {
   "codemirror_mode": {
    "name": "ipython",
    "version": 3
   },
   "file_extension": ".py",
   "mimetype": "text/x-python",
   "name": "python",
   "nbconvert_exporter": "python",
   "pygments_lexer": "ipython3",
   "version": "3.9.5"
  }
 },
 "nbformat": 4,
 "nbformat_minor": 5
}
